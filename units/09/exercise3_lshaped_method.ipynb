{
  "cells": [
    {
      "cell_type": "markdown",
      "id": "d1b5e415-893c-4e0a-a3e0-2f77d4c71035",
      "metadata": {
        "id": "d1b5e415-893c-4e0a-a3e0-2f77d4c71035"
      },
      "source": [
        "# Problem\n",
        "Consider the following problem\n",
        "$$\n",
        "\\begin{align*}\n",
        "  \\min~&2x + \\pi_1(y_{11} + 3y_{21}) + \\pi_2(y_{12} + 3y_{22})+ \\pi_3(y_{13} + 3y_{23})\\\\\n",
        "  \\text{s.t.}~&2y_{1s}+y_{2s}+x = h_{1s} & s=1,\\ldots,3\\\\\n",
        "       &-y_{1s}+y_{2s} +4x \\geq h_{2s}& s=1,\\ldots,3\\\\\n",
        "       &y_{1s},y_{2s}\\geq 0, s=1,\\ldots,3,x\\geq 0\n",
        "\\end{align*}\n",
        "$$\n",
        "\n",
        "$(h_1,h_2)\\in \\Xi=\\big\\{(1,2),(1,3),(2,1)\\big\\}$ and $\\pi_1=\\pi_2=\\pi_3=\\frac{1}{3}$."
      ]
    },
    {
      "cell_type": "markdown",
      "id": "WZdSvyzLS29P",
      "metadata": {
        "id": "WZdSvyzLS29P"
      },
      "source": [
        "# Exercise\n",
        "Solve the problem using the L-Shaped method and compare its solution to that obtained without decomposing the problem. Use the code below to get started."
      ]
    },
    {
      "cell_type": "markdown",
      "id": "Lc3Kt63OTDxG",
      "metadata": {
        "id": "Lc3Kt63OTDxG"
      },
      "source": [
        "## Useful code\n"
      ]
    },
    {
      "cell_type": "code",
      "execution_count": 1,
      "id": "b7575307-27bf-438e-a5a5-ede2f5e4d0ae",
      "metadata": {
        "id": "b7575307-27bf-438e-a5a5-ede2f5e4d0ae"
      },
      "outputs": [
        {
          "name": "stdout",
          "output_type": "stream",
          "text": [
            "Requirement already satisfied: gurobipy in /Users/march/.pyenv/versions/3.12.7/lib/python3.12/site-packages (12.0.0)\n",
            "\n",
            "\u001b[1m[\u001b[0m\u001b[34;49mnotice\u001b[0m\u001b[1;39;49m]\u001b[0m\u001b[39;49m A new release of pip is available: \u001b[0m\u001b[31;49m24.2\u001b[0m\u001b[39;49m -> \u001b[0m\u001b[32;49m25.1.1\u001b[0m\n",
            "\u001b[1m[\u001b[0m\u001b[34;49mnotice\u001b[0m\u001b[1;39;49m]\u001b[0m\u001b[39;49m To update, run: \u001b[0m\u001b[32;49mpip install --upgrade pip\u001b[0m\n"
          ]
        }
      ],
      "source": [
        "!pip install gurobipy\n",
        "from gurobipy import Model, GRB, quicksum"
      ]
    },
    {
      "cell_type": "code",
      "execution_count": 2,
      "id": "8f5734a1-0fc4-48aa-b561-f81540ce6be5",
      "metadata": {
        "id": "8f5734a1-0fc4-48aa-b561-f81540ce6be5"
      },
      "outputs": [],
      "source": [
        "class Scenarios:\n",
        "  \n",
        "    def __init__(self):\n",
        "        self.n_scenarios = 3\n",
        "        self.probability = [1/self.n_scenarios for s in range(self.n_scenarios)]\n",
        "        self.h1 = [1,1,2]\n",
        "        self.h2 = [2,3,1]"
      ]
    },
    {
      "cell_type": "markdown",
      "id": "D6uECcNeTQf1",
      "metadata": {
        "id": "D6uECcNeTQf1"
      },
      "source": [
        "This is how to use the `Scenarios` class."
      ]
    },
    {
      "cell_type": "code",
      "execution_count": 3,
      "id": "eaf030bf-0ef3-4014-8f13-0b2945491e4d",
      "metadata": {
        "id": "eaf030bf-0ef3-4014-8f13-0b2945491e4d"
      },
      "outputs": [
        {
          "name": "stdout",
          "output_type": "stream",
          "text": [
            "Scenario 1 : h1= 1  h2= 2  probability= 0.3333333333333333\n"
          ]
        }
      ],
      "source": [
        "scenarios = Scenarios()\n",
        "print(\"Scenario 1 : h1=\",scenarios.h1[0],\" h2=\",scenarios.h2[0],\" probability=\",scenarios.probability[0])"
      ]
    },
    {
      "cell_type": "markdown",
      "id": "4MIKVO8xUGKx",
      "metadata": {
        "id": "4MIKVO8xUGKx"
      },
      "source": [
        "### Model\n",
        "We start by implementing a model for the problem (without decomposition)."
      ]
    },
    {
      "cell_type": "code",
      "execution_count": 4,
      "id": "3b009db9-8ac8-4beb-a705-cd4381009e5b",
      "metadata": {
        "id": "3b009db9-8ac8-4beb-a705-cd4381009e5b"
      },
      "outputs": [],
      "source": [
        "class FullModel:\n",
        "    def __init__(self, data: Scenarios):\n",
        "        self.m = Model()\n",
        "        self.data = data\n",
        "        # Variables\n",
        "        self.x = self.m.addVar(name=\"x\")\n",
        "        self.y1 = self.m.addVars(data.n_scenarios,name=\"y_1\")\n",
        "        self.y2 = self.m.addVars(data.n_scenarios,name=\"y_2\")\n",
        "        \n",
        "        # Objective\n",
        "        self.m.setObjective(2 * self.x \n",
        "                            + quicksum([data.probability[s] * (self.y1[s] + 3* self.y2[s]) \n",
        "                                        for s in range(data.n_scenarios)]))\n",
        "        \n",
        "        # Constraints\n",
        "        self.m.addConstrs(2 * self.y1[s]+self.y2[s] == data.h1[s] - self.x for s in range(data.n_scenarios))\n",
        "        self.m.addConstrs(-self.y1[s]+self.y2[s] >= data.h2[s] - 4* self.x for s in range(data.n_scenarios))\n",
        "\n",
        "    def solve(self):\n",
        "        self.m.Params.OutputFlag=0 \n",
        "        self.m.optimize()\n",
        "        \n",
        "    def print_solution(self):\n",
        "        print(\"Objective : \",self.m.objVal)\n",
        "        print(\"x : \", self.x.x)\n",
        "        print(\"y1 : \", self.m.getAttr('x',self.y1))\n",
        "        print(\"y2 : \", self.m.getAttr('x',self.y2))"
      ]
    },
    {
      "cell_type": "markdown",
      "id": "jWwh7ODXT6DJ",
      "metadata": {
        "id": "jWwh7ODXT6DJ"
      },
      "source": [
        "### Master Problem\n",
        "We will now implement the Master Problem. Obseve that the `MasterProblem` class has methods to add optimality and feasibility cuts which take as arguments the dual solution to the subproblems. "
      ]
    },
    {
      "cell_type": "code",
      "execution_count": 5,
      "id": "019d3c8d-498c-4afd-bd97-564e656718cf",
      "metadata": {
        "id": "019d3c8d-498c-4afd-bd97-564e656718cf"
      },
      "outputs": [],
      "source": [
        "class MasterProblem:\n",
        "    \n",
        "    def __init__(self,data:Scenarios):\n",
        "        self.m = Model()\n",
        "        self.data = data\n",
        "        # Variables\n",
        "        self.x = self.m.addVar(name=\"x\")\n",
        "        self.phi = self.m.addVar(name='phi')\n",
        "        \n",
        "        # Objective\n",
        "        self.m.setObjective(2 * self.x + self.phi)\n",
        "        \n",
        "        \n",
        "    def solve(self):\n",
        "        self.m.Params.OutputFlag=0 \n",
        "        self.m.optimize()\n",
        "        \n",
        "    def print_solution(self):\n",
        "        print(\"Objective : \",self.m.objVal)\n",
        "        print(\"x : \", self.x.x)\n",
        "        print(\"phi : \", self.phi.x)\n",
        "        \n",
        "    def get_solution(self):\n",
        "        return self.x.x, self.phi.x\n",
        "    \n",
        "    def get_objective(self):\n",
        "        return self.m.objVal        \n",
        "        \n",
        "    def add_fc(self,s:int,dual1:float,dual2:float):\n",
        "        self.m.addConstr(dual1 * (self.data.h1[s] - self.x) + dual2 * (self.data.h2[s] - 4*self.x) <= 0)\n",
        "        \n",
        "    def add_oc(self,dual1:list,dual2:list):\n",
        "        self.m.addConstr(\n",
        "            quicksum(\n",
        "                self.data.probability[s] * (dual1[s] * (self.data.h1[s] - self.x) \n",
        "                                          + dual2[s] * (self.data.h2[s] - 4*self.x) ) for s in range(self.data.n_scenarios)) \n",
        "            <= self.phi)\n",
        "    \n",
        "  "
      ]
    },
    {
      "cell_type": "markdown",
      "id": "g3ukJ_rbUPyq",
      "metadata": {
        "id": "g3ukJ_rbUPyq"
      },
      "source": [
        "### Subproblems\n",
        "We proceed by implementing the Feasibility and Optimality subproblems. Observe that both subproblems have methods to retrieve the optimal dual solution which will then be necessary to generate cuts."
      ]
    },
    {
      "cell_type": "code",
      "execution_count": 6,
      "id": "8ae1e22e-3bb1-4471-a8f6-4af52ff91aae",
      "metadata": {
        "id": "8ae1e22e-3bb1-4471-a8f6-4af52ff91aae"
      },
      "outputs": [],
      "source": [
        "class FSP:\n",
        "    \n",
        "    def __init__(self,data:Scenarios, s:int, X:float):\n",
        "        self.m = Model()\n",
        "        self.data = data\n",
        "        \n",
        "        # Variables\n",
        "        self.y1 = self.m.addVar(name=\"y_1\")\n",
        "        self.y2 = self.m.addVar(name=\"y_2\")\n",
        "        self.v1 = self.m.addVar(name=\"v_1\")\n",
        "        self.v2 = self.m.addVar(name=\"v_2\")\n",
        "        self.v3 = self.m.addVar(name=\"v_3\")\n",
        "        \n",
        "        # Objective\n",
        "        self.m.setObjective(self.v1 + self.v2 + self.v3)\n",
        "        \n",
        "        # Constraints\n",
        "        self.c1 = self.m.addConstr(2 * self.y1+self.y2 + self.v1 - self.v2 == data.h1[s] - X)\n",
        "        self.c2 = self.m.addConstr(-self.y1+self.y2 >= data.h2[s] - 4* X)\n",
        "\n",
        "    def solve(self):\n",
        "        self.m.Params.OutputFlag=0 \n",
        "        self.m.optimize()\n",
        "        \n",
        "    def get_objective(self):\n",
        "        return self.m.objVal\n",
        "    \n",
        "    def get_dual(self):\n",
        "        return self.c1.Pi, self.c2.Pi\n",
        "        \n",
        "    def print_solution(self):\n",
        "        print(\"Objective : \",self.m.objVal)\n",
        "        print(\"y1 : \", self.y1.x)\n",
        "        print(\"y2 : \", self.y2.x)\n",
        "        print(\"Pi1 : \", self.c1.Pi)\n",
        "        print(\"Pi2 : \", self.c2.Pi)"
      ]
    },
    {
      "cell_type": "code",
      "execution_count": null,
      "id": "7caa70db-5e26-46f7-a488-03c4f6baf3c7",
      "metadata": {
        "id": "7caa70db-5e26-46f7-a488-03c4f6baf3c7"
      },
      "outputs": [],
      "source": [
        "class OSP:\n",
        "    \n",
        "    def __init__(self,data:Scenarios, s: int,X:float):\n",
        "        self.m = Model()\n",
        "        self.data = data\n",
        "        # Variables\n",
        "        self.y1 = self.m.addVar(name=\"y_1\")\n",
        "        self.y2 = self.m.addVar(name=\"y_2\")\n",
        "        \n",
        "        # Objective\n",
        "        self.m.setObjective(self.y1 + 3* self.y2)\n",
        "        \n",
        "        # Constraints\n",
        "        self.c1 = self.m.addConstr(2 * self.y1 + self.y2 == data.h1[s] - X)\n",
        "        self.c2 = self.m.addConstr(-self.y1 + self.y2 >= data.h2[s] - 4* X)\n",
        "\n",
        "    def solve(self):\n",
        "        self.m.Params.OutputFlag=0 \n",
        "        self.m.optimize()\n",
        "    \n",
        "    def get_objective(self):\n",
        "        return self.m.objVal\n",
        "    \n",
        "    def get_dual(self):\n",
        "        return self.c1.Pi, self.c2.Pi\n",
        "        \n",
        "    def print_solution(self):\n",
        "        print(\"Objective : \",self.m.objVal)\n",
        "        print(\"y1 : \", self.y1.x)\n",
        "        print(\"y2 : \", self.y2.x)\n",
        "        print(\"Pi1 : \", self.c1.Pi)\n",
        "        print(\"Pi2 : \", self.c2.Pi)"
      ]
    },
    {
      "cell_type": "markdown",
      "id": "e119fdb8-235f-4a1d-a556-f0706b7c51b7",
      "metadata": {
        "id": "e119fdb8-235f-4a1d-a556-f0706b7c51b7"
      },
      "source": [
        "# Solution"
      ]
    },
    {
      "cell_type": "markdown",
      "id": "Epie5huWVYo_",
      "metadata": {
        "id": "Epie5huWVYo_"
      },
      "source": [
        "Here we implement the L-Shaped algorithm."
      ]
    },
    {
      "cell_type": "code",
      "execution_count": null,
      "id": "48dfc6c3-6e40-40db-a24a-7f0356ab896a",
      "metadata": {
        "id": "48dfc6c3-6e40-40db-a24a-7f0356ab896a"
      },
      "outputs": [],
      "source": [
        "data = Scenarios()\n",
        "mp = MasterProblem(data)\n",
        "converged = False\n",
        "iteration = 0\n",
        "ub = float('inf')\n",
        "lb = -float('inf')\n",
        "while (not converged) and (iteration < 5):\n",
        "    iteration = iteration + 1\n",
        "    print(\"Iteration #\",iteration)\n",
        "    \n",
        "    # Solve MP\n",
        "\n",
        "    # Get the solution X,Phi to MP\n",
        "    \n",
        "    # Update the lower bound\n",
        "    \n",
        "    # Check feasibility\n",
        "    for s in range(data.n_scenarios):\n",
        "        \n",
        "        # Create FSP\n",
        "        \n",
        "        # Solve FSP\n",
        "\n",
        "        # Get FSP objective\n",
        "        \n",
        "        # Do feasibility test\n",
        "        \n",
        "        # If feasibility test fails add a feasibility cut\n",
        "\n",
        "        # If feasibility test succeeds do nothing\n",
        "\n",
        "    # If no feasibility cuts have been added:\n",
        "        # Check optimality \n",
        "        for s in range(data.n_scenarios):\n",
        "            \n",
        "            # Create OSP\n",
        "            \n",
        "            # Solve OSP\n",
        "            \n",
        "            # Get OSP objective\n",
        "            \n",
        "        \n",
        "        # Compute recourse function\n",
        "        \n",
        "        # Update upper bound\n",
        "\n",
        "        # Do optimality test\n",
        "\n",
        "        # If optimality test succeeds: problem solved!\n",
        "\n",
        "        # Else, add an optimality cut      \n",
        "    print(\"Lower bound \",lb,\" upper bound \",ub)"
      ]
    }
  ],
  "metadata": {
    "colab": {
      "provenance": [],
      "toc_visible": true
    },
    "kernelspec": {
      "display_name": "Python 3",
      "language": "python",
      "name": "python3"
    },
    "language_info": {
      "codemirror_mode": {
        "name": "ipython",
        "version": 3
      },
      "file_extension": ".py",
      "mimetype": "text/x-python",
      "name": "python",
      "nbconvert_exporter": "python",
      "pygments_lexer": "ipython3",
      "version": "3.12.7"
    }
  },
  "nbformat": 4,
  "nbformat_minor": 5
}
