{
 "cells": [
  {
   "cell_type": "markdown",
   "metadata": {},
   "source": [
    "# Exercises on Benders Algorithm"
   ]
  },
  {
   "cell_type": "markdown",
   "metadata": {},
   "source": [
    "## Task 1\n",
    "\n",
    "Write an extended formulation with extreme points and extreme rays for the polyhedron\n",
    "\n",
    "$$\n",
    "\\begin{align*}\n",
    "−x_1 +x_2 &\\leq 1\\\\\n",
    "3x_1 +x_2 &\\geq 5 \\\\\n",
    "x_1 +x_2  &\\geq 1\\\\\n",
    "x_1 +2x_2 &\\leq 11.\n",
    "\\end{align*}\n",
    "$$"
   ]
  },
  {
   "cell_type": "markdown",
   "metadata": {},
   "source": [
    "![plot](./lpsolve.png)"
   ]
  },
  {
   "cell_type": "markdown",
   "metadata": {},
   "source": [
    "The two points where there are rays are $[3,4]$ and $[2,-1]$. \n",
    "The point $[3,4]$ is the intersection of \n",
    "\n",
    "$$\n",
    "\\begin{array}{ll}\n",
    "-x + y  &=  1\\\\\n",
    "x + 2y  &=  11\n",
    "\\end{array}\n",
    "$$\n",
    "\n",
    "and the ray is given by the line $x + 2y  =  11$. Rewriting in vector form:\n",
    "\n",
    "$$\n",
    "\\begin{bmatrix}\n",
    "x\\\\\n",
    "11/2- 1/2x\n",
    "\\end{bmatrix}\n",
    "=\n",
    "\\begin{bmatrix}\n",
    "0\\\\\n",
    "11/2\n",
    "\\end{bmatrix}\n",
    "x\\begin{bmatrix}\n",
    "1\\\\\n",
    "-1/2\n",
    "\\end{bmatrix}\n",
    "$$\n",
    "\n",
    "\n",
    "The point $[2,-1]$ is the intersection of \n",
    "\n",
    "$$\n",
    "\\begin{array}{ll}\n",
    "3x + y &= 5\\\\\n",
    "x + y &= 1\n",
    "\\end{array}\n",
    "$$\n",
    "\n",
    "and the ray is given by the line $x + y  =  1$. Rewriting in vector form:\n",
    "\n",
    "$$\n",
    "\\begin{bmatrix}\n",
    "x\\\\\n",
    "1- x\n",
    "\\end{bmatrix}\n",
    "=\n",
    "\\begin{bmatrix}\n",
    "0\\\\\n",
    "1\n",
    "\\end{bmatrix}\n",
    "x\\begin{bmatrix}\n",
    "1\\\\\n",
    "-1\n",
    "\\end{bmatrix}\n",
    "$$\n",
    "\n",
    "Hence, the extended formulation is:\n",
    "\n",
    "$$\n",
    "X=\\left\\{x \\mid \\begin{array}{ll}\n",
    "x = &\\lambda_1 \\begin{bmatrix}3\\\\4\\end{bmatrix}+\\lambda_2 \\begin{bmatrix}2\\\\-1\\end{bmatrix}+\\lambda_3 \\begin{bmatrix}1\\\\2\\end{bmatrix}+\\delta_1\\begin{bmatrix}1\\\\-1/2\\end{bmatrix}+\\delta_2\\begin{bmatrix}\n",
    "1\\\\-1\\end{bmatrix},\\\\\n",
    "&\\lambda_1,\\lambda_2,\\lambda_3\\geq 0,\\\\\n",
    "&\\lambda_1+\\lambda_2+\\lambda_3=1,\\\\\n",
    "&\\delta_1,\\delta_2,\\geq 0 \\}\n",
    "\\end{array}\n",
    "\\right\\}\n",
    "$$\n"
   ]
  },
  {
   "cell_type": "markdown",
   "metadata": {},
   "source": [
    "## Task 2\n",
    "\n",
    "Consider the mixed integer program \n",
    "\n",
    "$$\n",
    "\\begin{align}\n",
    "\\max\\; &4x_1 +5x_2 +2y_1 −7y_2 +5y_3 \\\\\n",
    "&3x_1 +4x_2 +2y_1 −2y_2 +3y_3\\leq 10\\\\\n",
    "&\\vec x\\leq 3,\\; \\vec x\\in \\mathbb{Z}^2_+,\\; \\vec y\\leq 2,\\; \\vec y\\in \\mathbb{R}^3_+. \n",
    "\\end{align}\n",
    "$$\n",
    "\n",
    "Solve it using Benders’ algorithm.\n",
    "\n",
    "After solving it, you are informed that the $y$ variables should also be integer.\n",
    "Without starting again from scratch:\n",
    "1. Solve the new problem using a basic branch and bound algorithm (Section 12.5.1)\n",
    "2. Solve using no-good cuts.\n"
   ]
  },
  {
   "attachments": {},
   "cell_type": "markdown",
   "metadata": {},
   "source": [
    "# Solution\n",
    "We can rewrite the problem in the same matrix terms as seen in the lecture:\n",
    "$$\n",
    "\\begin{align}\n",
    "\\max \\;& \\vec{c}^T\\vec{x}+\\vec{h}^T\\vec{y}\\\\\n",
    "&F\\vec{x}+G\\vec{y}\\leq \\vec{d}\\\\\n",
    "&\\vec{x}\\in X \\cap \\mathbb{Z}^q_+ \\; \\vec{y}\\in \\mathbb{R}^p_+\n",
    "\\end{align}\n",
    "$$\n",
    "which in our case becomes:\n",
    "$$\n",
    "\\begin{align}\n",
    "\\max\\; &\\begin{bmatrix}4& 5\\end{bmatrix}\\begin{bmatrix}x_1\\\\x_2\\end{bmatrix} + \\begin{bmatrix}2&-7&5\\end{bmatrix}\\begin{bmatrix}y_1 \\\\y_2\\\\y_3\\end{bmatrix} \\\\\n",
    "&\\begin{bmatrix}3&4\\end{bmatrix}\\begin{bmatrix}x_1\\\\x_2\\end{bmatrix} +\\begin{bmatrix}2&-2&3\\end{bmatrix}\\begin{bmatrix}y_1\\\\y_2\\\\y_3\\end{bmatrix}\\leq 10\\\\\n",
    "&\\begin{bmatrix}1&0\\\\0&1\\end{bmatrix}\\begin{bmatrix}x_1\\\\x_2\\end{bmatrix}+\\begin{bmatrix}0&0&0\\\\0&0&0\\end{bmatrix}\\begin{bmatrix}y_1\\\\y_2\\\\y_3\\end{bmatrix}\\leq \\begin{bmatrix}3\\\\3\\end{bmatrix}\\\\\n",
    "&\\begin{bmatrix}0&0\\\\0&0\\\\0&0\\end{bmatrix}\\begin{bmatrix}x_1\\\\x_2\\end{bmatrix}+\\begin{bmatrix}1&0&0\\\\0&1&0\\\\0&0&1\\end{bmatrix}\\begin{bmatrix}y_1\\\\y_2\\\\y_3\\end{bmatrix}\\leq \\begin{bmatrix}2\\\\2\\\\2\\end{bmatrix}\\\\\n",
    "&\\vec x\\in \\mathbb{Z}^2_+,\\; \\vec y\\in \\mathbb{R}^3_+. \n",
    "\\end{align}\n",
    "$$"
   ]
  },
  {
   "cell_type": "markdown",
   "metadata": {},
   "source": [
    "We will need to use duality theory in the subproblem so we decide to fix the $x$ variables thus leaving the subproblem a linear programming problem. For a fixed $x=\\bar{x}$ we get the Benders subproblem:\n",
    "$$\n",
    "\\begin{align}\n",
    "\\max\\; & +2y_1 −7y_2 +5y_3\\\\\n",
    "&2{y}_1-2{y}_2+3{y}_3\\leq 10-3\\bar{x}_1 -4\\bar{x}_2\\\\\n",
    "&\\vec y\\leq 2,\\; \\vec y\\in \\mathbb{R}^3_+. \n",
    "\\end{align}\n",
    "$$"
   ]
  },
  {
   "cell_type": "markdown",
   "metadata": {},
   "source": [
    "Next, in some variables $u_1,u_2,u_3,u_4$ we derive the dual of the subproblem (DSP):\n",
    "$$\n",
    "\\begin{align}\n",
    "\\min\\; &(10-3\\bar{x}_1 -4\\bar{x}_2)u_1+2u_2+2u_3+2u_4 \\\\\n",
    "&2u_1+u_2\\geq 2\\\\\n",
    "&-2u_1+u_3\\geq -7\\\\\n",
    "&3u_1+u_4\\geq 5\\\\\n",
    "&\\vec u\\in \\mathbb{R}^4_+ \n",
    "\\end{align}\n",
    "$$"
   ]
  },
  {
   "cell_type": "markdown",
   "metadata": {},
   "source": [
    "The Benders reformulation (BR), aka extensive formulation (EF), in the extreme rays $v^r, r \\in R$ and extreme points $w^p, p \\in P$ of $\\vec{u}^TG\\leq d$ is:\n",
    "$$\n",
    "\\begin{align}\n",
    "z^*=\\max\\; &4x_1 +5x_2 + \\eta \\\\\n",
    "&v^r(10-3x_1-4x_2) \\geq 0 &\\forall r \\in R\\\\\n",
    "&w^p(10-3x_1-4x_2) \\geq \\eta &\\forall p \\in P\\\\\n",
    "&\\vec x\\leq 3,\\; \\vec x\\in \\mathbb{Z}^2_+,\\; \\eta \\in \\mathbb{R}^1.                                  \n",
    "\\end{align}\n",
    "$$"
   ]
  },
  {
   "cell_type": "markdown",
   "metadata": {},
   "source": []
  },
  {
   "cell_type": "markdown",
   "metadata": {},
   "source": [
    "We start the Benders' algorithm by relaxing the integrality constraint on the $\\vec{x}$ variables and removing all feasibility and optimality constraints yeilding a reduced extensive formulation (REF): \n",
    "$$\n",
    "\\begin{align}\n",
    "z^*=\\max\\; &4x_1 +5x_2 + \\eta \\\\\n",
    "&\\vec x\\leq 3,\\; \\eta \\in \\mathbb{R}^1.                                  \n",
    "\\end{align}\n",
    "$$"
   ]
  },
  {
   "cell_type": "markdown",
   "metadata": {},
   "source": [
    "The optimal solution of the current (REF) is trivial: $z^*=+\\infty$, $\\eta^*=+\\infty$ and $\\vec{x}^*=[3,3]$.  "
   ]
  },
  {
   "cell_type": "code",
   "execution_count": 18,
   "metadata": {
    "collapsed": false
   },
   "outputs": [
    {
     "name": "stdout",
     "output_type": "stream",
     "text": [
      "[[3. 4.]\n",
      " [1. 0.]\n",
      " [0. 1.]\n",
      " [0. 0.]\n",
      " [0. 0.]\n",
      " [0. 0.]] [[ 2. -2.  3.]\n",
      " [ 0.  0.  0.]\n",
      " [ 0.  0.  0.]\n",
      " [ 1.  0.  0.]\n",
      " [ 0.  1.  0.]\n",
      " [ 0.  0.  1.]]\n",
      "        message: Optimization terminated successfully. (HiGHS Status 7: Optimal)\n",
      "        success: True\n",
      "         status: 0\n",
      "            fun: -15.0\n",
      "              x: [ 1.000e+00  0.000e+00  5.000e-01  0.000e+00  2.000e+00]\n",
      " mip_node_count: 1\n",
      " mip_dual_bound: -15.0\n",
      "        mip_gap: 0.0\n",
      "Running HiGHS 1.2.0 [date: 2021-07-09, git hash: n/a]\n",
      "Copyright (c) 2022 ERGO-Code under MIT licence terms\n",
      "Presolving model\n",
      "1 rows, 5 cols, 5 nonzeros\n",
      "1 rows, 5 cols, 5 nonzeros\n",
      "\n",
      "Solving MIP model with:\n",
      "   1 rows\n",
      "   5 cols (0 binary, 2 integer, 0 implied int., 3 continuous)\n",
      "   5 nonzeros\n",
      "\n",
      "        Nodes      |    B&B Tree     |            Objective Bounds              |  Dynamic Constraints |       Work      \n",
      "     Proc. InQueue |  Leaves   Expl. | BestBound       BestSol              Gap |   Cuts   InLp Confl. | LpIters     Time\n",
      "\n",
      "         0       0         0   0.00%   -41             inf                  inf        0      0      0         0     0.0s\n",
      " R       0       0         0   0.00%   -15.33333333    -15                2.22%        0      0      0         1     0.0s\n",
      "\n",
      "Solving report\n",
      "  Status            Optimal\n",
      "  Primal bound      -15\n",
      "  Dual bound        -15\n",
      "  Gap               0% (tolerance: 0.01%)\n",
      "  Solution status   feasible\n",
      "                    -15 (objective)\n",
      "                    0 (bound viol.)\n",
      "                    0 (int. viol.)\n",
      "                    0 (row viol.)\n",
      "  Timing            0.00 (total)\n",
      "                    0.00 (presolve)\n",
      "                    0.00 (postsolve)\n",
      "  Nodes             1\n",
      "  LP iterations     2 (total)\n",
      "                    0 (strong br.)\n",
      "                    1 (separation)\n",
      "                    0 (heuristics)\n"
     ]
    }
   ],
   "source": [
    "import numpy as np\n",
    "import scipy.optimize as opt\n",
    "\n",
    "c = np.array([4,5])\n",
    "h = np.array([2,-7,5])\n",
    "F = np.concatenate((np.array([[3,4]]),np.eye(2),np.zeros((3,2))),axis=0)\n",
    "G = np.concatenate((np.array([[2,-2,3]]),np.zeros((2,3)),np.eye(3)),axis=0)\n",
    "d = np.array([10,3,3,2,2,2])\n",
    "\n",
    "x_star=np.array([3,3])\n",
    "print(F,G)\n",
    "\n",
    "constraints = opt.LinearConstraint(A=np.concatenate([F,G],axis=1), lb=0, ub=d)\n",
    "integrality=np.array([1,1,0,0,0])\n",
    "bounds = opt.Bounds(lb=np.zeros(5), ub=np.array([3,3,2,2,2]))\n",
    "values=np.concatenate([c,h],axis=0)\n",
    "res = opt.milp(c=-values, constraints=constraints, integrality=integrality, bounds=bounds, options={'disp': True})\n",
    "print(res)\n"
   ]
  },
  {
   "cell_type": "code",
   "execution_count": 19,
   "metadata": {
    "collapsed": false
   },
   "outputs": [],
   "source": [
    "import gurobipy as gp\n",
    "\n",
    "def solve_DSP(d,h,F,G,xstar,silent=False):\n",
    "    # Model\n",
    "    m = gp.Model(\"DSP\")\n",
    "    m.setParam(gp.GRB.Param.InfUnbdInfo, 1)\n",
    "    if silent:\n",
    "        m.setParam(gp.GRB.Param.OutputFlag, 0)\n",
    "    \n",
    "    # Create variables\n",
    "    u = m.addMVar(shape=G.shape[0], vtype=gp.GRB.CONTINUOUS, name=\"u\")\n",
    "\n",
    "    # Set objective\n",
    "    m.setObjective(u @ (d-F @ xstar), gp.GRB.MINIMIZE)\n",
    "\n",
    "    # Add constraints\n",
    "    m.addConstr(G.T @ u>= h, name=\"c\")\n",
    "    if not silent: \n",
    "        m.update()\n",
    "        m.display()\n",
    "    # Optimize model\n",
    "    m.optimize()\n",
    "    return m, u"
   ]
  },
  {
   "cell_type": "code",
   "execution_count": 20,
   "metadata": {
    "collapsed": false
   },
   "outputs": [
    {
     "name": "stdout",
     "output_type": "stream",
     "text": [
      "Set parameter InfUnbdInfo to value 1\n",
      "Minimize\n",
      "  -11.0 u[0] + 2.0 u[3] + 2.0 u[4] + 2.0 u[5]\n",
      "Subject To\n",
      "  c[0]: 2.0 u[0] + u[3] >= 2\n",
      "  c[1]: -2.0 u[0] + u[4] >= -7\n",
      "  c[2]: 3.0 u[0] + u[5] >= 5\n",
      "Gurobi Optimizer version 12.0.0 build v12.0.0rc1 (mac64[arm] - Darwin 24.4.0 24E263)\n",
      "\n",
      "CPU model: Apple M1 Max\n",
      "Thread count: 10 physical cores, 10 logical processors, using up to 10 threads\n",
      "\n",
      "Non-default parameters:\n",
      "InfUnbdInfo  1\n",
      "\n",
      "Optimize a model with 3 rows, 6 columns and 6 nonzeros\n",
      "Model fingerprint: 0x3485e092\n",
      "Coefficient statistics:\n",
      "  Matrix range     [1e+00, 3e+00]\n",
      "  Objective range  [2e+00, 1e+01]\n",
      "  Bounds range     [0e+00, 0e+00]\n",
      "  RHS range        [2e+00, 7e+00]\n",
      "Presolve removed 0 rows and 2 columns\n",
      "Presolve time: 0.00s\n",
      "Iteration    Objective       Primal Inf.    Dual Inf.      Time\n",
      "       0   -1.1000000e+31   1.000000e+30   1.100000e+01      0s\n",
      "\n",
      "Solved in 2 iterations and 0.00 seconds (0.00 work units)\n",
      "Unbounded model\n",
      "extreme ray: [0.5 0.  0.  0.  1.  0. ]\n"
     ]
    },
    {
     "name": "stderr",
     "output_type": "stream",
     "text": [
      "/var/folders/2d/8kc387tn67v4tc9_8t9d2myr0000gq/T/ipykernel_96296/550583442.py:20: DeprecationWarning: Model.display() is deprecated\n",
      "  m.display()\n"
     ]
    }
   ],
   "source": [
    "dsp_model, dsp_sol = solve_DSP(d,h,F,G,x_star)\n",
    "\n",
    "if dsp_model.status == gp.GRB.status.INFEASIBLE:\n",
    "    print(\"Instance infeasible\")\n",
    "elif dsp_model.status == gp.GRB.status.OPTIMAL:\n",
    "    print(\"extreme point:\", dsp_sol.X)\n",
    "elif dsp_model.status == gp.GRB.status.UNBOUNDED:\n",
    "    print(\"extreme ray:\",dsp_sol.UnbdRay)"
   ]
  },
  {
   "cell_type": "markdown",
   "metadata": {},
   "source": [
    "We find a ray and a feasibility constraint that is currently violated in the Benders reformulation: $v^r(d-Fx^*) < 0$"
   ]
  },
  {
   "cell_type": "code",
   "execution_count": 21,
   "metadata": {
    "collapsed": false
   },
   "outputs": [
    {
     "data": {
      "text/plain": [
       "np.float64(-3.5)"
      ]
     },
     "execution_count": 21,
     "metadata": {},
     "output_type": "execute_result"
    }
   ],
   "source": [
    "dsp_sol.UnbdRay @ (d-F @ x_star)"
   ]
  },
  {
   "cell_type": "markdown",
   "metadata": {},
   "source": [
    "We need to add the feasibility cut $(u^r)^T(d-Fx)\\geq 0$:\n",
    "$$\n",
    "\\begin{bmatrix}0.5&0&0&0&&1&0\\end{bmatrix}\\left(\\begin{bmatrix}10\\\\3\\\\3\\\\2\\\\2\\\\2\\end{bmatrix}-\\begin{bmatrix}3&4\\\\1&0\\\\0&1\\\\0&0\\\\0&0\\\\0&0\\end{bmatrix}\\begin{bmatrix}x_1\\\\x_2\\end{bmatrix}\\right)\\geq 0\n",
    "$$\n",
    "that is:\n",
    "$$\n",
    "\\begin{bmatrix}0.5&0&0&0&&1&0\\end{bmatrix}\\left(\\begin{bmatrix}10\\\\3\\\\3\\\\2\\\\2\\\\2\\end{bmatrix}-\\begin{bmatrix}3x_1+4x_2\\\\x_1\\\\x_2\\\\0\\\\0\\\\0\\end{bmatrix}\\right)\\geq 0\n",
    "$$\n",
    "$$\n",
    "\\begin{bmatrix}0.5&0&0&0&&1&0\\end{bmatrix}\\begin{bmatrix}10-3x_1-4x_2\\\\3-x_1\\\\3-x_2\\\\2\\\\2\\\\2\\end{bmatrix}\\geq 0\n",
    "$$\n",
    "$$\n",
    "7-1.5x_1-2x_2\\geq 0\n",
    "$$\n",
    "$$\n",
    "3x_1+4x_2\\leq 14\n",
    "$$"
   ]
  },
  {
   "cell_type": "code",
   "execution_count": 22,
   "metadata": {
    "collapsed": false
   },
   "outputs": [],
   "source": [
    "def solve_REF(c,d,F,extreme_rays=[], extreme_points=[], silent=False):\n",
    "     # Model\n",
    "    m = gp.Model(\"DSP\")\n",
    "    m.setParam(gp.GRB.Param.DualReductions, 0)\n",
    "    if silent:\n",
    "        m.setParam(gp.GRB.Param.OutputFlag, 0)\n",
    "\n",
    "    # Create variables\n",
    "    x = m.addMVar(shape=F.shape[1], ub=3, vtype=gp.GRB.INTEGER, name=\"x\")\n",
    "    eta = m.addMVar(shape=1, ub=100, vtype=gp.GRB.CONTINUOUS, name=\"eta\")\n",
    "\n",
    "    # Set objective\n",
    "    m.setObjective(c @ x + eta, gp.GRB.MAXIMIZE)\n",
    "\n",
    "    # Add constraints\n",
    "    for ray in extreme_rays:\n",
    "        m.addConstr(ray @ (d - F @ x)>=0, name=\"feasibility cut\")\n",
    "    for point in extreme_points:\n",
    "        m.addConstr(point @ (d - F @ x)>=eta, name=\"optimality cut\")\n",
    "    if not silent:\n",
    "        m.update()\n",
    "        m.display()\n",
    "    # Optimize model\n",
    "    m.optimize()\n",
    "    return m,x,eta"
   ]
  },
  {
   "cell_type": "code",
   "execution_count": 23,
   "metadata": {
    "collapsed": false
   },
   "outputs": [
    {
     "name": "stdout",
     "output_type": "stream",
     "text": [
      "Set parameter DualReductions to value 0\n",
      "Maximize\n",
      "  4.0 x[0] + 5.0 x[1] + eta[0]\n",
      "Subject To\n",
      "  feasibility cut: -1.5 x[0] + -2.0 x[1] >= -7\n",
      "Bounds\n",
      "  -0 <= x[0] <= 3\n",
      "  -0 <= x[1] <= 3\n",
      "  0 <= eta[0] <= 100\n",
      "General Integers\n",
      "  ['x[0]', 'x[1]']\n",
      "Gurobi Optimizer version 12.0.0 build v12.0.0rc1 (mac64[arm] - Darwin 24.4.0 24E263)\n",
      "\n",
      "CPU model: Apple M1 Max\n",
      "Thread count: 10 physical cores, 10 logical processors, using up to 10 threads\n",
      "\n",
      "Non-default parameters:\n",
      "DualReductions  0\n",
      "\n",
      "Optimize a model with 1 rows, 3 columns and 2 nonzeros\n",
      "Model fingerprint: 0xc967af30\n",
      "Variable types: 1 continuous, 2 integer (0 binary)\n",
      "Coefficient statistics:\n",
      "  Matrix range     [2e+00, 2e+00]\n",
      "  Objective range  [1e+00, 5e+00]\n",
      "  Bounds range     [3e+00, 1e+02]\n",
      "  RHS range        [7e+00, 7e+00]\n",
      "Found heuristic solution: objective 117.0000000\n",
      "Presolve time: 0.00s\n",
      "Presolved: 1 rows, 3 columns, 2 nonzeros\n",
      "Variable types: 1 continuous, 2 integer (0 binary)\n",
      "\n",
      "Root relaxation: objective 1.182500e+02, 1 iterations, 0.00 seconds (0.00 work units)\n",
      "\n",
      "    Nodes    |    Current Node    |     Objective Bounds      |     Work\n",
      " Expl Unexpl |  Obj  Depth IntInf | Incumbent    BestBd   Gap | It/Node Time\n",
      "\n",
      "     0     0  118.25000    0    1  117.00000  118.25000  1.07%     -    0s\n",
      "H    0     0                     118.0000000  118.25000  0.21%     -    0s\n",
      "     0     0  118.25000    0    1  118.00000  118.25000  0.21%     -    0s\n",
      "\n",
      "Explored 1 nodes (1 simplex iterations) in 0.01 seconds (0.00 work units)\n",
      "Thread count was 10 (of 10 available processors)\n",
      "\n",
      "Solution count 2: 118 117 \n",
      "\n",
      "Optimal solution found (tolerance 1.00e-04)\n",
      "Best objective 1.180000000000e+02, best bound 1.180000000000e+02, gap 0.0000%\n"
     ]
    },
    {
     "name": "stderr",
     "output_type": "stream",
     "text": [
      "/var/folders/2d/8kc387tn67v4tc9_8t9d2myr0000gq/T/ipykernel_96296/3273254003.py:22: DeprecationWarning: Model.display() is deprecated\n",
      "  m.display()\n"
     ]
    }
   ],
   "source": [
    "ref_model, ref_sol_x, ref_sol_eta = solve_REF(c,d,F, [dsp_sol.UnbdRay])"
   ]
  },
  {
   "cell_type": "markdown",
   "metadata": {},
   "source": [
    "We can now write the overall procedure to solve the linear relaxation of the original problem."
   ]
  },
  {
   "cell_type": "code",
   "execution_count": 24,
   "metadata": {
    "collapsed": false
   },
   "outputs": [
    {
     "name": "stdout",
     "output_type": "stream",
     "text": [
      "Set parameter DualReductions to value 0\n",
      "REF solution [3. 3.] [100.]\n",
      "Set parameter InfUnbdInfo to value 1\n",
      "Found extreme ray: [0.5 0.  0.  0.  1.  0. ]\n",
      "Set parameter DualReductions to value 0\n",
      "REF solution [2. 2.] [100.]\n",
      "Set parameter InfUnbdInfo to value 1\n",
      "Found extreme point: [3.5 0.  0.  0.  0.  0. ]\n",
      "Set parameter DualReductions to value 0\n",
      "REF solution [-0. -0.] [35.]\n",
      "Set parameter InfUnbdInfo to value 1\n",
      "Found extreme point: [0. 0. 0. 2. 0. 5.]\n",
      "Set parameter DualReductions to value 0\n",
      "REF solution [ 2. -0.] [14.]\n",
      "Set parameter InfUnbdInfo to value 1\n",
      "Found extreme point: [1.66666667 0.         0.         0.         0.         0.        ]\n",
      "Set parameter DualReductions to value 0\n",
      "REF solution [1. 0.] [11.66666667]\n",
      "Set parameter InfUnbdInfo to value 1\n",
      "Found extreme point: [1. 0. 0. 0. 0. 2.]\n",
      "Set parameter DualReductions to value 0\n",
      "REF solution [1. 0.] [11.]\n",
      "Set parameter InfUnbdInfo to value 1\n",
      "Found extreme point: [1. 0. 0. 0. 0. 2.]\n",
      "Problem Solved:  z=15.0, eta=[11.],x=[1. 0.], y=[0.5, 0.0, 2.0]\n"
     ]
    }
   ],
   "source": [
    "extreme_rays=[]\n",
    "extreme_points=[]\n",
    "while True:\n",
    "    # We solve the Restricted Benders reformulation (RBR) or restricted extended formulation:\n",
    "    ref_model, ref_sol_x, ref_sol_eta = solve_REF(c,d,F,extreme_rays, extreme_points,silent=True)\n",
    "    if ref_model.status == gp.GRB.status.INFEASIBLE:\n",
    "        print(\"Instance infeaasible\")\n",
    "        break\n",
    "    elif ref_model.status == gp.GRB.status.UNBOUNDED:\n",
    "        print(\"Ref unbounded:\",ref_sol_x.X,ref_sol_eta.X)        \n",
    "        break\n",
    "    elif ref_model.status == gp.GRB.status.OPTIMAL:\n",
    "        print(\"REF solution\",ref_sol_x.X,ref_sol_eta.X)\n",
    "    else:\n",
    "        print('Optimization was stopped with status %d' % m.status)\n",
    "        break\n",
    "    # We solve the Dual Subproblem\n",
    "    dsp_model, dsp_sol = solve_DSP(d,h,F,G,ref_sol_x.X, silent=True)\n",
    "    if dsp_model.status == gp.GRB.status.UNBOUNDED:\n",
    "        print(\"Found extreme ray:\",dsp_sol.UnbdRay)\n",
    "        extreme_rays=extreme_rays+[dsp_sol.UnbdRay]\n",
    "    elif dsp_model.status == gp.GRB.status.OPTIMAL:\n",
    "        print(\"Found extreme point:\", dsp_sol.X)\n",
    "        if dsp_model.objVal < ref_sol_eta.X:\n",
    "            extreme_points=extreme_points+[dsp_sol.X]\n",
    "        elif dsp_model.objVal == ref_sol_eta.X:\n",
    "            print(\"Problem Solved: \",\n",
    "                  f\"z={ref_model.objVal}, eta={ref_sol_eta.X},\"\n",
    "                  f\"x={ref_sol_x.X}, y={[c.Pi for c in dsp_model.getConstrs()]}\")\n",
    "            break\n",
    "    elif dsp_model.status == gp.GRB.status.INFEASIBLE:\n",
    "        print(\"DSP Instance infeaasible\")\n",
    "        break"
   ]
  }
 ],
 "metadata": {
  "kernelspec": {
   "display_name": "Python 3",
   "language": "python",
   "name": "python3"
  },
  "language_info": {
   "codemirror_mode": {
    "name": "ipython",
    "version": 3
   },
   "file_extension": ".py",
   "mimetype": "text/x-python",
   "name": "python",
   "nbconvert_exporter": "python",
   "pygments_lexer": "ipython3",
   "version": "3.12.7"
  }
 },
 "nbformat": 4,
 "nbformat_minor": 2
}
