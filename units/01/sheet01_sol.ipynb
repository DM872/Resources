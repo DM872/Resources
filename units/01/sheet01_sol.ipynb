{
 "cells": [
  {
   "cell_type": "markdown",
   "metadata": {},
   "source": [
    "# Task 1\n",
    "\n",
    "Solve some of the troublesome problems from [KN1] with Gurobi and other solvers\n",
    "(soplex, glpsol) and analyze the logs.\n",
    "\n",
    "\n",
    "The\n",
    "following linear program provides an example of ill conditioning\n",
    "and round-off error in the input data:\n",
    "\n",
    "$$\n",
    "\\begin{array}{rl}\n",
    "\\text{maximize} \\;\\;&x_1 + x_2 \\\\\n",
    "\\text{subject to} \\; \\; &\\frac{1}{3}x_1 + \\frac{2}{3}x_2 = 1\\\\\n",
    "&x_1+2x_2=3 \\\\\n",
    "&x_1,x_2 \\geq 0.\n",
    "\\end{array}\n",
    "$$"
   ]
  },
  {
   "cell_type": "code",
   "execution_count": 113,
   "metadata": {},
   "outputs": [],
   "source": [
    "import gurobipy as gp\n",
    "\n",
    "def printm(m: \"model\"):\n",
    "    for v in m.getVars():\n",
    "        print(f\"{v.varName} = {v.x}\") "
   ]
  },
  {
   "cell_type": "code",
   "execution_count": 114,
   "metadata": {},
   "outputs": [
    {
     "name": "stdout",
     "output_type": "stream",
     "text": [
      "Statistics for model 'klotz_1':\n",
      "  Problem type                : LP\n",
      "  Linear constraint matrix    : 2 rows, 2 columns, 4 nonzeros\n",
      "  Variable types              : 2 continuous, 0 integer (0 binary)\n",
      "  Matrix range                : [3e-01, 2e+00]\n",
      "  Objective range             : [1e+00, 1e+00]\n",
      "  Bounds range                : [0e+00, 0e+00]\n",
      "  RHS range                   : [1e+00, 3e+00]\n",
      "Gurobi Optimizer version 12.0.0 build v12.0.0rc1 (mac64[arm] - Darwin 24.3.0 24D60)\n",
      "\n",
      "CPU model: Apple M1 Max\n",
      "Thread count: 10 physical cores, 10 logical processors, using up to 10 threads\n",
      "\n",
      "Optimize a model with 2 rows, 2 columns and 4 nonzeros\n",
      "Model fingerprint: 0x030fc4dc\n",
      "Coefficient statistics:\n",
      "  Matrix range     [3e-01, 2e+00]\n",
      "  Objective range  [1e+00, 1e+00]\n",
      "  Bounds range     [0e+00, 0e+00]\n",
      "  RHS range        [1e+00, 3e+00]\n",
      "Presolve removed 2 rows and 2 columns\n",
      "Presolve time: 0.00s\n",
      "Presolve: All rows and columns removed\n",
      "Iteration    Objective       Primal Inf.    Dual Inf.      Time\n",
      "       0    3.0000000e+00   0.000000e+00   0.000000e+00      0s\n",
      "\n",
      "Solved in 0 iterations and 0.00 seconds (0.00 work units)\n",
      "Optimal objective  3.000000000e+00\n",
      "x1 = 3.0\n",
      "x2 = 0.0\n"
     ]
    }
   ],
   "source": [
    "\n",
    "# Model 1.1\n",
    "model = gp.Model(\"klotz_1\")\n",
    "\n",
    "x1 = model.addVar(lb=0.0, vtype=gp.GRB.CONTINUOUS, name=\"x1\")  \n",
    "x2 = model.addVar(lb=0.0, vtype=gp.GRB.CONTINUOUS, name=\"x2\")  \n",
    "\n",
    "model.setObjective(x1 + x2, gp.GRB.MAXIMIZE)\n",
    "\n",
    "c1_1 = model.addConstr((1/3)*x1 + (2/3)*x2 == 1, \"c1_1\")\n",
    "c2 = model.addConstr(x1+2*x2 == 3, \"c2\")\n",
    "\n",
    "model.printStats()\n",
    "model.write(\"klotz_1.lp\")\n",
    "model.optimize()\n",
    "printm(model)\n"
   ]
  },
  {
   "cell_type": "code",
   "execution_count": 115,
   "metadata": {},
   "outputs": [
    {
     "name": "stdout",
     "output_type": "stream",
     "text": [
      "Gurobi Optimizer version 12.0.0 build v12.0.0rc1 (mac64[arm] - Darwin 24.3.0 24D60)\n",
      "\n",
      "CPU model: Apple M1 Max\n",
      "Thread count: 10 physical cores, 10 logical processors, using up to 10 threads\n",
      "\n",
      "Optimize a model with 2 rows, 2 columns and 4 nonzeros\n",
      "Model fingerprint: 0xb3e7b8f2\n",
      "Coefficient statistics:\n",
      "  Matrix range     [3e-01, 2e+00]\n",
      "  Objective range  [1e+00, 1e+00]\n",
      "  Bounds range     [0e+00, 0e+00]\n",
      "  RHS range        [1e+00, 3e+00]\n",
      "Presolve removed 2 rows and 2 columns\n",
      "Presolve time: 0.00s\n",
      "Presolve: All rows and columns removed\n",
      "Iteration    Objective       Primal Inf.    Dual Inf.      Time\n",
      "       0    2.0000000e+00   0.000000e+00   0.000000e+00      0s\n",
      "\n",
      "Solved in 0 iterations and 0.00 seconds (0.00 work units)\n",
      "Optimal objective  2.000000000e+00\n",
      "x1 = 1.0\n",
      "x2 = 1.0\n"
     ]
    }
   ],
   "source": [
    "model.remove(c1_1)\n",
    "c1_2 = model.addConstr(0.33333*x1+0.66667*x2==1, \"c1_2\")\n",
    "model.optimize()\n",
    "printm(model)"
   ]
  },
  {
   "cell_type": "code",
   "execution_count": 116,
   "metadata": {},
   "outputs": [
    {
     "name": "stdout",
     "output_type": "stream",
     "text": [
      "Gurobi Optimizer version 12.0.0 build v12.0.0rc1 (mac64[arm] - Darwin 24.3.0 24D60)\n",
      "\n",
      "CPU model: Apple M1 Max\n",
      "Thread count: 10 physical cores, 10 logical processors, using up to 10 threads\n",
      "\n",
      "Optimize a model with 2 rows, 2 columns and 4 nonzeros\n",
      "Model fingerprint: 0xcd9ba774\n",
      "Coefficient statistics:\n",
      "  Matrix range     [1e+00, 2e+00]\n",
      "  Objective range  [1e+00, 1e+00]\n",
      "  Bounds range     [0e+00, 0e+00]\n",
      "  RHS range        [3e+00, 3e+00]\n",
      "Presolve removed 2 rows and 2 columns\n",
      "Presolve time: 0.00s\n",
      "Presolve: All rows and columns removed\n",
      "Iteration    Objective       Primal Inf.    Dual Inf.      Time\n",
      "       0    3.0000000e+00   0.000000e+00   0.000000e+00      0s\n",
      "\n",
      "Solved in 0 iterations and 0.00 seconds (0.00 work units)\n",
      "Optimal objective  3.000000000e+00\n",
      "x1 = 3.0\n",
      "x2 = 0.0\n"
     ]
    }
   ],
   "source": [
    "model.remove(c1_2)\n",
    "c1_3 = model.addConstr(x1+2*x2==3, \"c1_3\")\n",
    "model.optimize()\n",
    "printm(model)"
   ]
  },
  {
   "cell_type": "markdown",
   "metadata": {},
   "source": [
    "The second model gives different results. \n",
    "Read about [the Issues and Limitations of Floating-Point Arithmetic](https://docs.python.org/3/tutorial/floatingpoint.html)."
   ]
  },
  {
   "cell_type": "markdown",
   "metadata": {},
   "source": [
    "$$\n",
    "\\begin{array}{rl}\n",
    "\\text{maximize} \\;\\;&1\\\\\n",
    "\\text{subject to} \\; \\;& -x_1+24x_2\\leq 21\\\\\n",
    "&x_1\\leq 3\\\\\n",
    "&x_2 \\geq 1.00000008.\n",
    "\\end{array}\n",
    "$$"
   ]
  },
  {
   "cell_type": "code",
   "execution_count": 117,
   "metadata": {},
   "outputs": [
    {
     "name": "stdout",
     "output_type": "stream",
     "text": [
      "Statistics for model 'klotz_2':\n",
      "  Problem type                : LP\n",
      "  Linear constraint matrix    : 3 rows, 2 columns, 4 nonzeros\n",
      "  Variable types              : 2 continuous, 0 integer (0 binary)\n",
      "  Matrix range                : [1e+00, 2e+01]\n",
      "  Objective range             : [0e+00, 0e+00]\n",
      "  Bounds range                : [0e+00, 0e+00]\n",
      "  RHS range                   : [1e+00, 2e+01]\n",
      "Gurobi Optimizer version 12.0.0 build v12.0.0rc1 (mac64[arm] - Darwin 24.3.0 24D60)\n",
      "\n",
      "CPU model: Apple M1 Max\n",
      "Thread count: 10 physical cores, 10 logical processors, using up to 10 threads\n",
      "\n",
      "Optimize a model with 3 rows, 2 columns and 4 nonzeros\n",
      "Model fingerprint: 0x5bbed78e\n",
      "Coefficient statistics:\n",
      "  Matrix range     [1e+00, 2e+01]\n",
      "  Objective range  [0e+00, 0e+00]\n",
      "  Bounds range     [0e+00, 0e+00]\n",
      "  RHS range        [1e+00, 2e+01]\n",
      "Presolve removed 2 rows and 2 columns\n",
      "Presolve time: 0.00s\n",
      "\n",
      "Solved in 0 iterations and 0.00 seconds (0.00 work units)\n",
      "Infeasible model\n"
     ]
    }
   ],
   "source": [
    "# Model 1.1\n",
    "model = gp.Model(\"klotz_2\")\n",
    "\n",
    "x1 = model.addVar(vtype=gp.GRB.CONTINUOUS, name=\"x1\")  \n",
    "x2 = model.addVar(vtype=gp.GRB.CONTINUOUS, name=\"x2\")  \n",
    "\n",
    "model.setObjective(1, gp.GRB.MAXIMIZE)\n",
    "\n",
    "c1 = model.addConstr(-x1 + 24*x2 <= 21, \"c1\")\n",
    "c2 = model.addConstr(x1 <= 3, \"c2\")\n",
    "c3 = model.addConstr(x2 >= 1.00000008, \"c3\")\n",
    "\n",
    "model.printStats()\n",
    "model.write(\"klotz_2.lp\")\n",
    "model.optimize()"
   ]
  },
  {
   "cell_type": "markdown",
   "metadata": {},
   "source": [
    "The infeasibility is detected by the presolving step.\n",
    "Let's try to remove it. Parameters can be set in gurobipy in one of the\n",
    "following ways:\n",
    "```\n",
    "m.Params.timeLimit = 100.0\n",
    "m.Params.timelimit = 100.0\n",
    "m.Params.TIME_LIMIT = 100.0\n",
    "m.setParam(GRB.Param.TimeLimit, 100.0)\n",
    "m.setParam(\"TimeLimit\", 100.0);\n",
    "```\n",
    "A list of parameters can be found in this [documentation page](https://docs.gurobi.com/projects/optimizer/en/current/concepts/parameters/groups.html)."
   ]
  },
  {
   "cell_type": "code",
   "execution_count": 118,
   "metadata": {},
   "outputs": [],
   "source": [
    "if model.status == gp.GRB.status.INF_OR_UNBD:\n",
    "    # Turn presolve off to determine whether m is infeasible or unbounded\n",
    "    model.setParam(\"Presolve\", 0) # off\n",
    "    model.setParam(\"Method\", 0) # -1=automatic, 0=primal simplex, 1=dual simplex, 2=barrier, 3=concurrent, 4=deterministic concurrent, 5=deterministic concurrent simplex\n",
    "    model.optimize()\n",
    "if model.status == gp.GRB.status.OPTIMAL:\n",
    "    printm(model) \n",
    "elif model.status != gp.GRB.status.INFEASIBLE:\n",
    "    print('Optimization was stopped with infeasible status %d' % model.status)"
   ]
  },
  {
   "cell_type": "code",
   "execution_count": 119,
   "metadata": {},
   "outputs": [
    {
     "name": "stdout",
     "output_type": "stream",
     "text": [
      "Set parameter DualReductions to value 0\n",
      "Set parameter InfUnbdInfo to value 1\n",
      "Gurobi Optimizer version 12.0.0 build v12.0.0rc1 (mac64[arm] - Darwin 24.3.0 24D60)\n",
      "\n",
      "CPU model: Apple M1 Max\n",
      "Thread count: 10 physical cores, 10 logical processors, using up to 10 threads\n",
      "\n",
      "Non-default parameters:\n",
      "DualReductions  0\n",
      "InfUnbdInfo  1\n",
      "\n",
      "Optimize a model with 3 rows, 2 columns and 4 nonzeros\n",
      "Model fingerprint: 0x5bbed78e\n",
      "Coefficient statistics:\n",
      "  Matrix range     [1e+00, 2e+01]\n",
      "  Objective range  [0e+00, 0e+00]\n",
      "  Bounds range     [0e+00, 0e+00]\n",
      "  RHS range        [1e+00, 2e+01]\n",
      "Presolve time: 0.00s\n",
      "Iteration    Objective       Primal Inf.    Dual Inf.      Time\n",
      "       0    1.0000000e+00   4.000000e+00   0.000000e+00      0s\n",
      "\n",
      "Solved in 2 iterations and 0.00 seconds (0.00 work units)\n",
      "Infeasible model\n",
      "1.9199999989893968e-06\n",
      "[1.0, 1.0, -24.0]\n"
     ]
    }
   ],
   "source": [
    "model.setParam(\"DualReductions\", 0)\n",
    "model.setParam(\"InfUnbdInfo\",1)\n",
    "model.optimize()\n",
    "print(model.FarkasProof)\n",
    "print(model.FarkasDual)\n"
   ]
  },
  {
   "attachments": {},
   "cell_type": "markdown",
   "metadata": {},
   "source": [
    "# Task 2\n",
    "\n",
    "Interior point algorithm. \n",
    "\n",
    "$$\n",
    "\\begin{array}{rl}\n",
    "\\text{maximize} \\;\\;&2x_1 + 3x_2 + 2x_3 \\\\\n",
    "\\text{subject to} \\; \\; &x_1 + x_2 +2x_3 = 3\\\\\n",
    "&x_1,x_2,x_3 \\geq 0.\n",
    "\\end{array}\n",
    "$$\n",
    "\n",
    "using as starting solution $[x_1, x_2, x_3]=[1, 3/2, 1/4]$."
   ]
  },
  {
   "cell_type": "code",
   "execution_count": 120,
   "metadata": {},
   "outputs": [],
   "source": [
    "# %load -r 1-29 src/affine.py\n",
    "# %% \n",
    "from fractions import Fraction\n",
    "import numpy as np\n",
    "np.set_printoptions(precision=3, suppress=True)\n",
    "\n",
    "# %%\n",
    "def affine_scaling(c, A, b, x_0, alpha=0.5):\n",
    "    x = x_0\n",
    "    x_old=np.zeros(len(x))\n",
    "\n",
    "    while np.linalg.norm(x_old-x)>0.001:\n",
    "        x_old=x\n",
    "        D=np.diag(x)\n",
    "        D1=np.linalg.inv(D)\n",
    "        \n",
    "        x_tilde = D1 @ x\n",
    "        A_tilde = A @ D\n",
    "        c_tilde = c @ D\n",
    "        \n",
    "        P=np.identity(len(x))-A_tilde.T @ np.linalg.inv( A_tilde @ A_tilde.T) @ A_tilde\n",
    "        p_tilde=P @ c_tilde\n",
    "        \n",
    "        theta = np.max([abs(v) for v in p_tilde if v<0])\n",
    "        \n",
    "        x_tilde = x_tilde + alpha/theta * p_tilde\n",
    "        x = D @ x_tilde\n",
    "        print(x)\n",
    "    return x\n"
   ]
  },
  {
   "cell_type": "markdown",
   "metadata": {},
   "source": [
    "Let's test it on the problem for the slides for which we know the optimal\n",
    "solution:"
   ]
  },
  {
   "cell_type": "code",
   "execution_count": 121,
   "metadata": {},
   "outputs": [
    {
     "name": "stdout",
     "output_type": "stream",
     "text": [
      "[1.046 4.954 2.   ]\n",
      "[0.934 6.066 1.   ]\n",
      "[0.724 6.776 0.5  ]\n",
      "[0.465 7.285 0.25 ]\n",
      "[0.249 7.626 0.125]\n",
      "[0.125 7.812 0.062]\n",
      "[0.063 7.906 0.031]\n",
      "[0.031 7.953 0.016]\n",
      "[0.016 7.977 0.008]\n",
      "[0.008 7.988 0.004]\n",
      "[0.004 7.994 0.002]\n",
      "[0.002 7.997 0.001]\n",
      "[0.001 7.999 0.   ]\n",
      "[0.    7.999 0.   ]\n"
     ]
    },
    {
     "data": {
      "text/plain": [
       "array([0.   , 7.999, 0.   ])"
      ]
     },
     "execution_count": 121,
     "metadata": {},
     "output_type": "execute_result"
    }
   ],
   "source": [
    "# %load -r 30-39 src/affine.py\n",
    "# %%\n",
    "c = np.array([1, 2, 0])\n",
    "A = np.array([[1, 1, 1]])\n",
    "b = np.array([8])\n",
    "\n",
    "x_0=np.array([1,3,4])\n",
    "alpha = 0.5\n",
    "\n",
    "affine_scaling(c, A, b, x_0, alpha)\n"
   ]
  },
  {
   "cell_type": "code",
   "execution_count": 122,
   "metadata": {},
   "outputs": [
    {
     "name": "stdout",
     "output_type": "stream",
     "text": [
      "[0.636 2.114 0.125]\n",
      "[0.318 2.536 0.073]\n",
      "[0.159 2.763 0.039]\n",
      "[0.08  2.881 0.02 ]\n",
      "[0.04 2.94 0.01]\n",
      "[0.02  2.97  0.005]\n",
      "[0.01  2.985 0.002]\n",
      "[0.005 2.993 0.001]\n",
      "[0.002 2.996 0.001]\n",
      "[0.001 2.998 0.   ]\n",
      "[0.001 2.999 0.   ]\n",
      "[0. 3. 0.]\n"
     ]
    },
    {
     "data": {
      "text/plain": [
       "array([0., 3., 0.])"
      ]
     },
     "execution_count": 122,
     "metadata": {},
     "output_type": "execute_result"
    }
   ],
   "source": [
    "# %load -r 40-50 src/affine.py\n",
    "# %%\n",
    "\n",
    "c = np.array([2, 3, 2])\n",
    "A = np.array([[1, 1, 2]])\n",
    "b = np.array([3])\n",
    "\n",
    "x_0=np.array([1, 3/2, 1/4])\n",
    "alpha = 0.5\n",
    "\n",
    "affine_scaling(c, A, b, x_0, alpha)\n"
   ]
  }
 ],
 "metadata": {
  "kernelspec": {
   "display_name": "Python 3",
   "language": "python",
   "name": "python3"
  },
  "language_info": {
   "codemirror_mode": {
    "name": "ipython",
    "version": 3
   },
   "file_extension": ".py",
   "mimetype": "text/x-python",
   "name": "python",
   "nbconvert_exporter": "python",
   "pygments_lexer": "ipython3",
   "version": "3.12.7"
  }
 },
 "nbformat": 4,
 "nbformat_minor": 2
}
