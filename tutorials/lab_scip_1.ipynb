{
 "cells": [
  {
   "attachments": {},
   "cell_type": "markdown",
   "metadata": {},
   "source": [
    "<a href=\"https://colab.research.google.com/github/DM871/dm871.github.io/blob/master/notebooks/lab_scip_1.ipynb\">\n",
    "  <img src=\"https://colab.research.google.com/assets/colab-badge.svg\" alt=\"Open In Colab\"/>\n",
    "</a>"
   ]
  },
  {
   "attachments": {},
   "cell_type": "markdown",
   "metadata": {},
   "source": [
    "\n",
    "## The Basics: Production Allocation\n",
    "\n",
    "The following model is for a specific instance of the production \n",
    "allocation problem seen in the first lectures. We give here the primal\n",
    "and its dual model with the instantiated numerical parameters.\n",
    "\n",
    "$$\\begin{array}{*{6}{r}l}\n",
    "\\max & 5x_1&+&6x_2&+&8x_3&=z\\\\\n",
    "&6x_1&+&5x_2&+&10x_3 &\\leq 60\\\\\n",
    "&8x_1&+&4x_2&+&4x_3&\\leq 40\\\\\n",
    "&4x_1&+&5x_2&+&6x_3&\\leq 50\\\\\n",
    "&x_1,&&x_2,&&x_3&\\geq 0\n",
    "\\end{array}$$\n",
    "\n",
    "$$\\begin{array}{*{6}{r}l}\n",
    "\\min & 60y_1&+&40y_2&+&50y_3&=u\\\\\n",
    "&6y_1&+&8y_2&+&4y_3 &\\leq 5\\\\\n",
    "&5y_1&+&4y_2&+&5y_3&\\leq 6\\\\\n",
    "&10y_1&+&4y_2&+&6y_3&\\leq 8\\\\\n",
    "&y_1,&&y_2,&&y_3&\\geq 0\n",
    "\\end{array}$$\n",
    "\n",
    "## Analysis of the final tableau \n",
    "\n",
    "Solving one of the two problems provides the solution also to the other problem. The primal solution is\n",
    "$x^*_1=0,x^*_2=7,x^*_3=2.5$ and the dual solution is\n",
    "$y^*_1=0.2,y^*_2=0,y^*_3=1$. The objective value is $z^*=u^*=62$.\n",
    "\n",
    "We can organize these values in a *tableau*. For the given problems it looks like this:\n",
    "\n",
    "    |------+----+----+------+----+----+----+-----|\n",
    "    |   x1 | x2 | x3 |   s1 | s2 | s3 | -z |   b |\n",
    "    |------+----+----+------+----+----+----+-----|\n",
    "    |   ?  |  1 |  0 |  ?   |  0 |  ? |  0 |   7 |\n",
    "    |   ?  |  0 |  1 |  ?   |  0 |  ? |  0 | 5/2 |\n",
    "    |   ?  |  0 |  0 |  ?   |  1 |  ? |  0 |   2 |\n",
    "    |------+----+----+------+----+----+----+-----|\n",
    "    | -0.2 |  0 |  0 | -0.2 |  0 | -1 |  1 | -62 |\n",
    "    |------+----+----+------+----+----+----+-----|\n",
    "\n",
    "A question mark is for the values that are not relevant for the goal of\n",
    "this exercise.\n",
    "\n",
    "The three numbers of the last row in the tableau above in the columns of\n",
    "the variables that are not in basis are called *reduced costs*. They\n",
    "indicate how much we should make each product more expensive in order to\n",
    "be worth manufacturing it. The next three values are known as *shadow\n",
    "prices*. After a change of sign they give the values of the dual\n",
    "variables, which are interpreted as the *marginal values* of increasing\n",
    "(or decreasing) the capacities of the resources (that is, the values by\n",
    "which the objective function would improve if the corresponding constraints were\n",
    "relaxed by one unit, which corresponds to buying one unit more of\n",
    "that resource). In our example, which seeks maximization, the marginal value\n",
    "1 for the third resource means that the objective function would\n",
    "increase by 1 if we had one more unit of that resource.\n",
    "\n",
    "It can be verified that in the primal problem at the optimum the first\n",
    "and third resources are fully exhausted, that is, their constraint is\n",
    "satisfied at the equality, while there is *slack* for the second\n",
    "resource, that is, the constraint holds with strict inequality. Looking\n",
    "at the marginal values, we see that the second resource has been given a\n",
    "zero valuation. This seems plausible, since we are not using all the\n",
    "capacity that we have, we are not willing to place much value on it\n",
    "(buying one more unit of that resource would not translate in an\n",
    "improvement of the objective function).\n",
    "\n",
    "These results are captured by the Complementary Slackness theorem of\n",
    "linear programming. If a constraint is not *\"binding\"* in the optimal\n",
    "primal solution, the corresponding dual variable is zero in the optimal\n",
    "solution to the dual model. Similarly, if a constraint in the dual model\n",
    "is not *\"binding\"* in the optimal solution to the dual model, then the\n",
    "corresponding variable is zero in the optimal solution to the primal\n",
    "model."
   ]
  },
  {
   "attachments": {},
   "cell_type": "markdown",
   "metadata": {},
   "source": [
    "\n",
    "## Solving the model with PySCIPOpt\n",
    "\n",
    "Let's write the primal model in Python and solve it with SCIP. "
   ]
  },
  {
   "cell_type": "code",
   "execution_count": 9,
   "metadata": {},
   "outputs": [
    {
     "name": "stdout",
     "output_type": "stream",
     "text": [
      "Defaulting to user installation because normal site-packages is not writeable\n",
      "Requirement already satisfied: pyscipopt in /home/marco/.local/lib/python3.10/site-packages (4.2.0)\n",
      "Requirement already satisfied: wheel in /usr/lib/python3/dist-packages (from pyscipopt) (0.37.1)\n",
      "Note: you may need to restart the kernel to use updated packages.\n"
     ]
    }
   ],
   "source": [
    "%pip install pyscipopt"
   ]
  },
  {
   "cell_type": "markdown",
   "metadata": {},
   "source": [
    "Here is the script:"
   ]
  },
  {
   "cell_type": "code",
   "execution_count": 10,
   "metadata": {},
   "outputs": [
    {
     "data": {
      "text/plain": [
       "c3"
      ]
     },
     "execution_count": 10,
     "metadata": {},
     "output_type": "execute_result"
    }
   ],
   "source": [
    "import pyscipopt as pso\n",
    "\n",
    "# Model\n",
    "model = pso.Model(\"prod\")\n",
    "\n",
    "# let's use the primal simplex\n",
    "model.setCharParam(\"lp/initalgorithm\", \"p\")\n",
    "\n",
    "# Create decision variables\n",
    "x1 = model.addVar(name=\"x1\", vtype=\"C\", lb=0.0, ub=None, obj=5.0, pricedVar=False)\n",
    "x2 = model.addVar(\"x1\", \"C\", 0, None, 6)  # arguments by position\n",
    "x3 = model.addVar(name=\"x3\")  # arguments by deafult:  lb=0.0, ub=None, obj=0.\n",
    "\n",
    "# The objective is to maximize (the default)\n",
    "# Unecessary if we had written the obj coefficient for all vars above\n",
    "model.setObjective(5.0*x1 + 6.0*x2 + 8.0*x3, \"maximize\")\n",
    "\n",
    "# Add constraints to the model\n",
    "model.addCons(6.0*x1 + 5.0*x2 + 10.0*x3 <= 60.0, \"c1\")\n",
    "model.addCons(8.0*x1 + 4.0*x2 + 4.0*x3 <= 40.0, \"c2\")\n",
    "model.addCons(4.0*x1 + 5.0*x2 + 6.0*x3 <= 50.0, \"c3\")"
   ]
  },
  {
   "attachments": {},
   "cell_type": "markdown",
   "metadata": {},
   "source": [
    "\n",
    "\n",
    "The documentation for the functions `Model.addVar()` and\n",
    "`Model.addConstr()`, as well as for all other functions in `pyscipopt` is\n",
    "available from the [Reference\n",
    "Manual](https://scipopt.github.io/PySCIPOpt/docs/html/) and more specifically from the [model API page](https://scipopt.github.io/PySCIPOpt/docs/html/pyscipopt_1_1scip_1_1Model.html)\n",
    "For the variable $x_3$ the lower bound, upper bound, objective\n",
    "coefficient and type are set to their default values that are,\n",
    "respectively: `lb=0.0, ub=None, obj=0.0, vtype=\"C\".\n",
    "Once the model has been built, it is good practice to inspect it to make sure that it has been built as we intended.\n",
    "In order to assess this, we can let PySCIPOpt write for us the set of\n",
    "parameters and the model instantiated with our data. This check can be\n",
    "very useful above all with implicit models as we will see later. Inspect\n",
    "the files created by these lines:\n"
   ]
  },
  {
   "cell_type": "code",
   "execution_count": 11,
   "metadata": {},
   "outputs": [
    {
     "name": "stdout",
     "output_type": "stream",
     "text": [
      "wrote parameter settings to file /home/marco/Teaching/Courses/DM871/dm871.github.io/notebooks/param.set\n",
      "wrote problem to file /home/marco/Teaching/Courses/DM871/dm871.github.io/notebooks/prod1_scip.lp\n",
      "wrote problem to file /home/marco/Teaching/Courses/DM871/dm871.github.io/notebooks/prod1_scip.cip\n"
     ]
    }
   ],
   "source": [
    "# Write the set of SCIP parameters and their settings.\n",
    "model.writeParams(\"param.set\")\n",
    "# Write the instantiated model to a file\n",
    "model.writeProblem(\"prod1_scip.lp\")  # lp format\n",
    "model.writeProblem(\"prod1_scip.cip\")  # cip format"
   ]
  },
  {
   "attachments": {},
   "cell_type": "markdown",
   "metadata": {},
   "source": [
    "\n",
    "The file `param.set` contains a list of SCIP parameters that\n",
    "can be set as we did with `lp/initalgorithm`\n",
    "above. Inspecting this file can provide an insight on the parameters\n",
    "available as an alterntive to consult the [web page](https://scip.zib.de/doc/html/PARAMETERS.php).\n",
    "\n",
    "\n",
    "The files `prod1_scip.lp` and `prod1_scip.cip`\n",
    "contain the problem in two different formats.  Valid suffixes for\n",
    "writing the model itself are `.mps, .rew, .lp`, or\n",
    "`.rlp`."
   ]
  },
  {
   "attachments": {},
   "cell_type": "markdown",
   "metadata": {},
   "source": [
    "\n",
    "**Your Task** Try all these formats on the production allocation\n",
    "example above and check their contents. The MPS file is not very user friendly. This is\n",
    "because the format is an old format when computer technology had much\n",
    "more limitations than nowadays. \n",
    "The CPLEX-LP format is a more explicit version of the problem that may\n",
    "be useful to check whether the model we implemented in Python is\n",
    "actually the one we intended."
   ]
  },
  {
   "attachments": {},
   "cell_type": "markdown",
   "metadata": {},
   "source": [
    "We are then ready to solve or optimize the model\n",
    "(using `model.optimize`). You can then query the `x` attribute on the\n",
    "variables to retrieve the solution (and the `name` attribute to\n",
    "retrieve the variable name for each variable)."
   ]
  },
  {
   "cell_type": "code",
   "execution_count": 12,
   "metadata": {},
   "outputs": [
    {
     "name": "stdout",
     "output_type": "stream",
     "text": [
      "Optimal value: 62.0\n",
      "x1  =  0.0\n",
      "x1  =  7.0\n",
      "x3  =  2.5\n",
      "feasible solution found by trivial heuristic after 0.0 seconds, objective value 0.000000e+00\n",
      "presolving:\n",
      "(round 1, fast)       0 del vars, 0 del conss, 0 add conss, 5 chg bounds, 0 chg sides, 0 chg coeffs, 0 upgd conss, 0 impls, 0 clqs\n",
      "   (0.0s) running MILP presolver\n",
      "   (0.0s) MILP presolver found nothing\n",
      "   (0.0s) symmetry computation started: requiring (bin +, int +, cont +), (fixed: bin -, int -, cont -)\n",
      "   (0.0s) no symmetry present\n",
      "presolving (2 rounds: 2 fast, 1 medium, 1 exhaustive):\n",
      " 0 deleted vars, 0 deleted constraints, 0 added constraints, 5 tightened bounds, 0 added holes, 0 changed sides, 0 changed coefficients\n",
      " 0 implications, 0 cliques\n",
      "presolved problem has 3 variables (0 bin, 0 int, 0 impl, 3 cont) and 3 constraints\n",
      "      3 constraints of type <linear>\n",
      "Presolving Time: 0.00\n",
      "transformed 1/1 original solutions to the transformed problem space\n",
      "\n",
      " time | node  | left  |LP iter|LP it/n|mem/heur|mdpt |vars |cons |rows |cuts |sepa|confs|strbr|  dualbound   | primalbound  |  gap   | compl. \n",
      "* 0.0s|     1 |     0 |     3 |     - |    LP  |   0 |   3 |   3 |   3 |   0 |  0 |   0 |   0 | 6.200000e+01 | 6.200000e+01 |   0.00%| unknown\n",
      "  0.0s|     1 |     0 |     3 |     - |   589k |   0 |   3 |   3 |   3 |   0 |  0 |   0 |   0 | 6.200000e+01 | 6.200000e+01 |   0.00%| unknown\n",
      "\n",
      "SCIP Status        : problem is solved [optimal solution found]\n",
      "Solving Time (sec) : 0.00\n",
      "Solving Nodes      : 1\n",
      "Primal Bound       : +6.20000000000000e+01 (2 solutions)\n",
      "Dual Bound         : +6.20000000000000e+01\n",
      "Gap                : 0.00 %\n"
     ]
    }
   ],
   "source": [
    "# Solve\n",
    "model.optimize()\n",
    "\n",
    "# Let's print the solution\n",
    "if model.getStatus() == \"optimal\":\n",
    "    print(\"Optimal value:\", model.getObjVal())\n",
    "    for v in model.getVars():\n",
    "        print(v.name, \" = \", model.getVal(v))\n",
    "else:\n",
    "    print(\"Problem could not be solved to optimality\")\n",
    "\n"
   ]
  },
  {
   "attachments": {},
   "cell_type": "markdown",
   "metadata": {},
   "source": [
    "\n",
    "The screen output of SCIP is described below.  If a\n",
    "letter appears in front of a display row, it indicates, which heuristic\n",
    "found the new primal bound, a star representing an integral\n",
    "LP-relaxation.  In addition, the output indicates the amount of\n",
    "presolving that is conducted. Finally, the simplex method is applied and\n",
    "after 2 iterations of the primal simplex method (we set to use this\n",
    "method via `model.setCharParam(\"lp/initalgorithm\",\"p\")`\n",
    "the optimal solution is found with value 62."
   ]
  },
  {
   "attachments": {},
   "cell_type": "markdown",
   "metadata": {},
   "source": [
    "```\n",
    "SCIP> display display\n",
    "\n",
    " display column       header           position width priority status  description\n",
    " --------------       ------           -------- ----- -------- ------  -----------\n",
    " solfound                                     0     1    80000   auto  letter that indicates the heuristic which found the solution\n",
    " concsolfound                                 0     1    80000   auto  indicator that a new solution was found in concurrent solve\n",
    " time                 time                   50     5     4000   auto  total solution time\n",
    " nnodes               node                  100     7   100000   auto  number of processed nodes\n",
    " nodesleft            left                  200     7    90000   auto  number of unprocessed nodes\n",
    " lpiterations         LP iter              1000     7    30000   auto  number of simplex iterations\n",
    " lpavgiterations      LP it/n              1400     7    25000   auto  average number of LP iterations since the last output line\n",
    " concmemused          mem                  1500     5    20000   auto  total number of bytes used in block memory\n",
    " maxdepth             mdpt                 2100     5     5000   auto  maximal depth of all processed nodes\n",
    " nfrac                frac                 2500     5      700   auto  number of fractional variables in the current solution\n",
    " vars                 vars                 3000     5     3000   auto  number of variables in the problem\n",
    " conss                cons                 3100     5     3100   auto  number of globally valid constraints in the problem\n",
    " curconss             ccons                3200     5      600   auto  number of enabled constraints in current node\n",
    " curcols              cols                 3300     5      800   auto  number of LP columns in current node\n",
    " currows              rows                 3400     5      900   auto  number of LP rows in current node\n",
    " cuts                 cuts                 3500     5     2100   auto  total number of cuts applied to the LPs\n",
    " conflicts            confs                4000     5     2000   auto  total number of conflicts found in conflict analysis\n",
    " strongbranchs        strbr                5000     5     1000   auto  total number of strong branching calls\n",
    " dualbound            dualbound            9000    14    70000   auto  current global dual bound\n",
    " primalbound          primalbound         10000    14    80000   auto  current primal bound\n",
    " concprimalbound      primalbound         10000    14    80000   auto  current primal bound in concurrent solve\n",
    " gap                  gap                 20000     8    60000   auto  current (relative) gap using |primal-dual|/MIN(|dual|,|primal|)\n",
    " ```"
   ]
  },
  {
   "attachments": {},
   "cell_type": "markdown",
   "metadata": {},
   "source": [
    "\n",
    "Most of the information associated with a PySCIPOpt model is\n",
    "stored in a set of attributes. Some attributes are associated with the\n",
    "variables of the model, some with the constraints of the model, and some\n",
    "with the model itself. To access these attributes you have to use the\n",
    "methods available under Model.\n"
   ]
  },
  {
   "attachments": {},
   "cell_type": "markdown",
   "metadata": {},
   "source": [
    "### Parameter setting\n",
    "\n",
    "It is possible to specify the parameters of the solver (for example to set a time limit) by specifying them before solving the model. For example, we can avoid preprocessing to occur and set the primal simplex as the solution method.\n",
    "The list of parameters can be found in the [SCIP documentation](https://scip.zib.de/doc/html/PARAMETERS.php)."
   ]
  },
  {
   "cell_type": "code",
   "execution_count": 13,
   "metadata": {},
   "outputs": [],
   "source": [
    "# Let's deactivate presolving and heuristic solutions\n",
    "model.setPresolve(pso.SCIP_PARAMSETTING.OFF)\n",
    "model.setHeuristics(pso.SCIP_PARAMSETTING.OFF)\n",
    "model.disablePropagation()\n",
    "# let's use the primal simplex\n",
    "model.setCharParam(\"lp/initalgorithm\", \"p\")"
   ]
  },
  {
   "attachments": {},
   "cell_type": "markdown",
   "metadata": {},
   "source": [
    "\n",
    "### The Value of the Dual and Slack variables\n",
    "  The value of the dual and slack variables can be accessed by the\n",
    "  methods `model.getDualsolLinear()` and\n",
    "  `model.getSlack()` on the constraints. In Python:\n"
   ]
  },
  {
   "cell_type": "code",
   "execution_count": 14,
   "metadata": {},
   "outputs": [
    {
     "name": "stdout",
     "output_type": "stream",
     "text": [
      "c1 0.0 -0.19999999999999973\n",
      "c2 0.5 -0.0\n",
      "c3 0.0 -1.0000000000000004\n"
     ]
    }
   ],
   "source": [
    "# Let's print the dual variables\n",
    "for c in model.getConss():\n",
    "    print(c.name, model.getSlack(c), model.getDualsolLinear(c))"
   ]
  },
  {
   "attachments": {},
   "cell_type": "markdown",
   "metadata": {},
   "source": [
    "The values `c1`,`c2`,`c3` are the shadow prices (here 0.2, 0.0 and 1) which correspond to\n",
    "the marginal value of the resources. The c1 and c3 constraints' value is\n",
    "different from zero. This indicates that there's a variable on the upper\n",
    "bound for those constraints, or in other terms that these constraints\n",
    "are *\"binding\"*. The second constraint is not *\"binding\"*.\n",
    "\n",
    "**Your Task**\n",
    "Try relaxing the value of each binding constraint one at a time, solve\n",
    "the modified problem, and see what happens to the optimal value of the\n",
    "objective function. Also check that, as expected, changing the value of\n",
    "non-binding constraints won't make any difference to the solution.\n",
    "\n",
    "**Your Task**\n",
    "We can also access several quantities associated with the variables. A\n",
    "particularly relevant one is the *reduced cost*. Print the reduced costs\n",
    "of the variables for our example and make sure that they correspond to\n",
    "the expected values from the tableau above. \\[Hint: look for the\n",
    "variable attribute `rc`.\\] What can we say about the solution found on\n",
    "the basis of the reduced costs?\n",
    "\n",
    "Let's now focus on the values output during the execution of the\n",
    "simplex. Let's first solve another small numerical example:\n"
   ]
  },
  {
   "attachments": {},
   "cell_type": "markdown",
   "metadata": {},
   "source": [
    "\n",
    "Let's now focus on the values output during the execution of the\n",
    "simplex. Let's first  solve another small numerical example:"
   ]
  },
  {
   "cell_type": "code",
   "execution_count": 15,
   "metadata": {},
   "outputs": [
    {
     "name": "stdout",
     "output_type": "stream",
     "text": [
      "infeasible\n",
      "presolving:\n",
      "presolving (1 rounds: 1 fast, 0 medium, 0 exhaustive):\n",
      " 1 deleted vars, 1 deleted constraints, 0 added constraints, 2 tightened bounds, 0 added holes, 0 changed sides, 0 changed coefficients\n",
      " 0 implications, 0 cliques\n",
      "presolving detected infeasibility\n",
      "Presolving Time: 0.00\n",
      "\n",
      "SCIP Status        : problem is solved [infeasible]\n",
      "Solving Time (sec) : 0.00\n",
      "Solving Nodes      : 0\n",
      "Primal Bound       : -1.00000000000000e+20 (objective limit, 0 solutions)\n",
      "Dual Bound         : -1.00000000000000e+20\n",
      "Gap                : 0.00 %\n"
     ]
    }
   ],
   "source": [
    "import pyscipopt as pso\n",
    "\n",
    "m = pso.Model(\"infeas\")\n",
    "\n",
    "x = m.addVar(name=\"x\") # ie, >= 0\n",
    "y = m.addVar(name=\"y\") # ie, >= 0\n",
    "\n",
    "m.setObjective(x - y, \"maximize\")\n",
    "\n",
    "m.addCons(x + y <= 2, \"c1\")\n",
    "m.addCons(2*x + 2*y >= 5, \"c2\")\n",
    "\n",
    "m.optimize()\n",
    "\n",
    "\n",
    "if m.getStatus() in [\"infeasible\", \"unbounded\"]:\n",
    "    print(m.getStatus())\n",
    "elif m.getStatus() == \"optimal\":\n",
    "    print('Optimal objective: %g' % m.getObjVal())\n",
    "    print( m.getVal(x) )\n",
    "    print( m.getVal(y) )\n",
    "    exit(0)\n",
    "elif m.getStatus() != \"infeasible\":\n",
    "    print('Optimization was stopped with status %d' % m.getStatus())\n",
    "    exit(0)\n"
   ]
  },
  {
   "attachments": {},
   "cell_type": "markdown",
   "metadata": {},
   "source": [
    "\n",
    "This means that the presolve process has removed one column and\n",
    "identified the model as infeasible.\n",
    "\n",
    "\n"
   ]
  },
  {
   "attachments": {},
   "cell_type": "markdown",
   "metadata": {},
   "source": [
    "**Your Task**\n",
    "Resolve the production allocation example above using the primal method.\n",
    "Compare the iteration values of the simplex with the previous ones. Give\n",
    "your interpretation of the values Objective, Primal Inf. and Dual Inf.\n",
    "\n"
   ]
  },
  {
   "cell_type": "code",
   "execution_count": 16,
   "metadata": {},
   "outputs": [
    {
     "name": "stdout",
     "output_type": "stream",
     "text": [
      "presolving:\n",
      "   (0.0s) symmetry computation started: requiring (bin +, int +, cont +), (fixed: bin -, int -, cont -)\n",
      "   (0.0s) no symmetry present\n",
      "presolving (0 rounds: 0 fast, 0 medium, 0 exhaustive):\n",
      " 0 deleted vars, 0 deleted constraints, 0 added constraints, 0 tightened bounds, 0 added holes, 0 changed sides, 0 changed coefficients\n",
      " 0 implications, 0 cliques\n",
      "presolved problem has 2 variables (0 bin, 0 int, 0 impl, 2 cont) and 2 constraints\n",
      "      2 constraints of type <linear>\n",
      "Presolving Time: 0.00\n",
      "\n",
      " time | node  | left  |LP iter|LP it/n|mem/heur|mdpt |vars |cons |rows |cuts |sepa|confs|strbr|  dualbound   | primalbound  |  gap   | compl. \n",
      "  0.0s|     1 |     0 |     1 |     - |   573k |   0 |   2 |   2 |   2 |   0 |  0 |   0 |   0 |    cutoff    |      --      |   0.00%| unknown\n",
      "  0.0s|     1 |     0 |     1 |     - |   573k |   0 |   2 |   2 |   2 |   0 |  0 |   0 |   0 |    cutoff    |      --      |   0.00%| unknown\n",
      "\n",
      "SCIP Status        : problem is solved [infeasible]\n",
      "Solving Time (sec) : 0.00\n",
      "Solving Nodes      : 1\n",
      "Primal Bound       : -1.00000000000000e+20 (objective limit, 0 solutions)\n",
      "Dual Bound         : -1.00000000000000e+20\n",
      "Gap                : 0.00 %\n"
     ]
    }
   ],
   "source": [
    "m = pso.Model(\"infeas\")\n",
    "\n",
    "# Let's deactivate presolving and heuristic solutions\n",
    "m.setPresolve(pso.SCIP_PARAMSETTING.OFF)\n",
    "m.setHeuristics(pso.SCIP_PARAMSETTING.OFF)\n",
    "m.disablePropagation()\n",
    "# let's use the primal simplex\n",
    "m.setCharParam(\"lp/initalgorithm\",\"d\")\n",
    "\n",
    "x = m.addVar(name=\"x\") # ie, >= 0\n",
    "y = m.addVar(name=\"y\") # ie, >= 0\n",
    "\n",
    "m.setObjective(x - y, \"maximize\")\n",
    "\n",
    "m.addCons(x + y <= 2, \"c1\")\n",
    "m.addCons(2*x + 2*y >= 5, \"c2\")\n",
    "\n",
    "m.optimize()"
   ]
  },
  {
   "attachments": {},
   "cell_type": "markdown",
   "metadata": {},
   "source": [
    "Try to change 5 to 2 in the right-hand-side of the second\n",
    "constraint of the model above. What happens? Explain the behaviour.\n"
   ]
  },
  {
   "attachments": {},
   "cell_type": "markdown",
   "metadata": {},
   "source": [
    "#### Exporting Model Data to a File\n",
    "\n",
    "The function `model.write(filename)` writes model data to a file. The file type\n",
    "is encoded in the suffix of the file name passed to the function. Valid\n",
    "suffixes for writing the model itself are `.mps, .rew, .lp,` or `.rlp`.\n",
    "The suffix for writing a solution is `.sol` while `.prm` for a parameter\n",
    "file.\n",
    "\n",
    "**Your Task**\n",
    "\n",
    "Try all these formats on the production allocation example above and\n",
    "check their contents. The MPS file is not very user friendly. This is\n",
    "because the format is an old format when computer technology had much\n",
    "more limitations than nowadays. The CPLEX-LP format is a more explicit\n",
    "version of the problem that may be useful to check whether the model we\n",
    "implemented in Python is actually the one we intended.\n",
    "\n",
    "If you have any of them installed, try solving the problem with other\n",
    "solvers, eg, `cplex`, `glpk` and `scip`. For this you have to use the\n",
    "MPS (Mathematical Programming System) format and run the following: \n",
    "```\n",
    "    cplex -c read prod.mps optimize\n",
    "    glpsol --mps prod.mps \n",
    "    scip -f prod.mps \n",
    "```\n",
    "Gurobi has also a [command-line\n",
    "tool](https://www.gurobi.com/documentation/9.1/refman/grb_command_line_tool.html)\n",
    "to solve model files:\n",
    "```\n",
    "    gurobi_cl model.mps\n",
    "```\n",
    "You may also use the online solver at NEOS, the Network Enabled\n",
    "Optimization Server supported by the US federal government and located\n",
    "at Argonne National Lab. To submit an MPS model to NEOS visit\n",
    "<http://www.neos-server.org/neos/>, click on the icon \"NEOS Solvers\",\n",
    "scroll down to the Linear Programming or Mixed Integer Linear\n",
    "Programming list, click on one of those, scroll down to \"Model File\",\n",
    "click on \"Choose File\", select a file from your computer that contains\n",
    "an MPS model, scroll down to \"e-mail address:\", type in your email\n",
    "address, and click Submit to NEOS.\n",
    "\n",
    "    [Standard MPS files do not indicate whether to minimize or maximize\n",
    "    the objective. Thus your MPS files will come out the same whether\n",
    "    the objective is minimize or maximize.\n",
    "\n",
    "    As you are seeing, most solvers minimize the objective by default. A\n",
    "    solver may have a switch to tell it to maximize instead, but that is\n",
    "    different for each solver.\n",
    "\n",
    "    If you change the signs of all the objective coefficients, while\n",
    "    leaving the constraints unchanged, then minimizing the resulting MPS\n",
    "    file will be equivalent to maximizing the original problem. This can\n",
    "    be done easily by putting the entire objective expression in\n",
    "    parentheses and placing a minus sign in front of it.]"
   ]
  }
 ],
 "metadata": {
  "kernelspec": {
   "display_name": "Python 3.9.1 64-bit",
   "metadata": {
    "interpreter": {
     "hash": "aee8b7b246df8f9039afb4144a1f6fd8d2ca17a180786b69acc140d282b71a49"
    }
   },
   "name": "python3"
  },
  "language_info": {
   "codemirror_mode": {
    "name": "ipython",
    "version": 3
   },
   "file_extension": ".py",
   "mimetype": "text/x-python",
   "name": "python",
   "nbconvert_exporter": "python",
   "pygments_lexer": "ipython3",
   "version": "3.10.12"
  },
  "orig_nbformat": 2
 },
 "nbformat": 4,
 "nbformat_minor": 2
}
