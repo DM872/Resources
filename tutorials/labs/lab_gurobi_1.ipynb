{
 "cells": [
  {
   "cell_type": "markdown",
   "metadata": {},
   "source": [
    "<a href=\"https://colab.research.google.com/github/DM871/dm871.github.io/blob/master/notebooks/lab_gurobi_1.ipynb\">\n",
    "  <img src=\"https://colab.research.google.com/assets/colab-badge.svg\" alt=\"Open In Colab\"/>\n",
    "</a>"
   ]
  },
  {
   "attachments": {},
   "cell_type": "markdown",
   "metadata": {},
   "source": [
    "\n",
    "## The Basics: Production Allocation\n",
    "\n",
    "The following model is for a specific instance of the production \n",
    "allocation problem seen in the first lectures. We give here the primal\n",
    "and its dual model with the instantiated numerical parameters.\n",
    "\n",
    "$$\\begin{array}{*{6}{r}l}\n",
    "\\max & 5x_1&+&6x_2&+&8x_3&=z\\\\\n",
    "&6x_1&+&5x_2&+&10x_3 &\\leq 60\\\\\n",
    "&8x_1&+&4x_2&+&4x_3&\\leq 40\\\\\n",
    "&4x_1&+&5x_2&+&6x_3&\\leq 50\\\\\n",
    "&x_1,&&x_2,&&x_3&\\geq 0\n",
    "\\end{array}$$\n",
    "\n",
    "$$\\begin{array}{*{6}{r}l}\n",
    "\\min & 60y_1&+&40y_2&+&50y_3&=u\\\\\n",
    "&6y_1&+&8y_2&+&4y_3 &\\leq 5\\\\\n",
    "&5y_1&+&4y_2&+&5y_3&\\leq 6\\\\\n",
    "&10y_1&+&4y_2&+&6y_3&\\leq 8\\\\\n",
    "&y_1,&&y_2,&&y_3&\\geq 0\n",
    "\\end{array}$$\n",
    "\n",
    "## Analysis of the final tableau \n",
    "\n",
    "Solving one of the two problems provides the solution also to the other problem. The primal solution is\n",
    "$x^*_1=0,x^*_2=7,x^*_3=2.5$ and the dual solution is\n",
    "$y^*_1=0.2,y^*_2=0,y^*_3=1$. The objective value is $z^*=u^*=62$.\n",
    "\n",
    "We can organize these values in a *tableau*. For the given problems it looks like this:\n",
    "\n",
    "    |------+----+----+------+----+----+----+-----|\n",
    "    |   x1 | x2 | x3 |   s1 | s2 | s3 | -z |   b |\n",
    "    |------+----+----+------+----+----+----+-----|\n",
    "    |   ?  |  1 |  0 |  ?   |  0 |  ? |  0 |   7 |\n",
    "    |   ?  |  0 |  1 |  ?   |  0 |  ? |  0 | 5/2 |\n",
    "    |   ?  |  0 |  0 |  ?   |  1 |  ? |  0 |   2 |\n",
    "    |------+----+----+------+----+----+----+-----|\n",
    "    | -0.2 |  0 |  0 | -0.2 |  0 | -1 |  1 | -62 |\n",
    "    |------+----+----+------+----+----+----+-----|\n",
    "\n",
    "A question mark is for the values that are not relevant for the goal of\n",
    "this exercise.\n",
    "\n",
    "The three numbers of the last row in the tableau above in the columns of\n",
    "the variables that are not in basis are called *reduced costs*. They\n",
    "indicate how much we should make each product more expensive in order to\n",
    "be worth manufacturing it. The next three values are known as *shadow\n",
    "prices*. After a change of sign they give the values of the dual\n",
    "variables, which are interpreted as the *marginal values* of increasing\n",
    "(or decreasing) the capacities of the resources (that is, the values by\n",
    "which the objective function would improve if the corresponding constraints were\n",
    "relaxed by one unit, which corresponds to buying one unit more of\n",
    "that resource). In our example, which seeks maximization, the marginal value\n",
    "1 for the third resource means that the objective function would\n",
    "increase by 1 if we had one more unit of that resource.\n",
    "\n",
    "It can be verified that in the primal problem at the optimum the first\n",
    "and third resources are fully exhausted, that is, their constraint is\n",
    "satisfied at the equality, while there is *slack* for the second\n",
    "resource, that is, the constraint holds with strict inequality. Looking\n",
    "at the marginal values, we see that the second resource has been given a\n",
    "zero valuation. This seems plausible, since we are not using all the\n",
    "capacity that we have, we are not willing to place much value on it\n",
    "(buying one more unit of that resource would not translate in an\n",
    "improvement of the objective function).\n",
    "\n",
    "These results are captured by the Complementary Slackness theorem of\n",
    "linear programming. If a constraint is not *\"binding\"* in the optimal\n",
    "primal solution, the corresponding dual variable is zero in the optimal\n",
    "solution to the dual model. Similarly, if a constraint in the dual model\n",
    "is not *\"binding\"* in the optimal solution to the dual model, then the\n",
    "corresponding variable is zero in the optimal solution to the primal\n",
    "model."
   ]
  },
  {
   "attachments": {},
   "cell_type": "markdown",
   "metadata": {},
   "source": [
    "\n",
    "## Solving the model with gurobipy\n",
    "\n",
    "Let's write the primal model in Python and solve it with Gurobi. The following command will automatically include a size-limited (2000 variables, 2000 linear constraints, and 200 quadratic constraints) license that should work in the Docker container, used by Google Colab. "
   ]
  },
  {
   "cell_type": "code",
   "execution_count": 16,
   "metadata": {},
   "outputs": [
    {
     "name": "stdout",
     "output_type": "stream",
     "text": [
      "Looking in indexes: https://pypi.gurobi.com\n",
      "Requirement already satisfied: gurobipy in /usr/local/lib/python3.8/dist-packages (9.1.2)\n",
      "Note: you may need to restart the kernel to use updated packages.\n"
     ]
    }
   ],
   "source": [
    "%pip install -i https://pypi.gurobi.com gurobipy"
   ]
  },
  {
   "cell_type": "markdown",
   "metadata": {},
   "source": [
    "Here is the script:"
   ]
  },
  {
   "cell_type": "code",
   "execution_count": 15,
   "metadata": {},
   "outputs": [
    {
     "data": {
      "text/plain": [
       "<gurobi.Constr *Awaiting Model Update*>"
      ]
     },
     "execution_count": 15,
     "metadata": {},
     "output_type": "execute_result"
    }
   ],
   "source": [
    "import gurobipy as gp\n",
    "\n",
    "# Model\n",
    "model = gp.Model(\"prod\")\n",
    "\n",
    "# Create decision variables\n",
    "x1 = model.addVar(lb=0.0, ub=gp.GRB.INFINITY, obj=5.0,\n",
    "                  vtype=gp.GRB.CONTINUOUS, name=\"x1\")  # arguments by name\n",
    "x2 = model.addVar(0.0, gp.GRB.INFINITY, 6.0, gp.GRB.CONTINUOUS, \"x2\")  # arguments by position\n",
    "x3 = model.addVar(name=\"x3\")  # arguments by deafult\n",
    "\n",
    "# The objective is to maximize (this is redundant now, but it will overwrite Var declaration)\n",
    "model.setObjective(5.0*x1 + 6.0*x2 + 8.0*x3, gp.GRB.MAXIMIZE)\n",
    "\n",
    "# Add the constraints to the model\n",
    "model.addConstr(6.0*x1 + 5.0*x2 + 10.0*x3 <= 60.0, \"c1\")\n",
    "model.addConstr(8.0*x1 + 4.0*x2 + 4.0*x3, gp.GRB.LESS_EQUAL, 40.0, \"c2\")\n",
    "model.addConstr(4.0*x1 + 5.0*x2 + 6.0*x3, gp.GRB.LESS_EQUAL, 50.0, \"c3\")"
   ]
  },
  {
   "cell_type": "markdown",
   "metadata": {},
   "source": [
    "\n",
    "\n",
    "The documentation for the functions `Model.addVar()` and\n",
    "`Model.addConstr()`, as well as for all other functions in `gurobipy` is\n",
    "available from the [Reference\n",
    "Manual](https://www.gurobi.com/documentation/9.1/refman/index.html)\n",
    "and more specifically from the [Model API\n",
    "page](https://www.gurobi.com/documentation/9.1/refman/py_model.html).\n",
    "For the variable $x_3$ the lower bound, upper bound, objective\n",
    "coefficient and type are set to their default values that are,\n",
    "respectively: `lb=0.0, ub=GRB.INFINITY, obj=0.0, vtype=GRB.CONTINUOUS`.\n",
    "Once the model has been built, it is good practice to inspect it to make sure that it has been built as we intended:"
   ]
  },
  {
   "cell_type": "code",
   "execution_count": 16,
   "metadata": {},
   "outputs": [
    {
     "name": "stdout",
     "output_type": "stream",
     "text": [
      "Maximize\n",
      "  5.0 x1 + 6.0 x2 + 8.0 x3\n",
      "Subject To\n",
      "  c1: 6.0 x1 + 5.0 x2 + 10.0 x3 <= 60\n",
      "  c2: 8.0 x1 + 4.0 x2 + 4.0 x3 <= 40\n",
      "  c3: 4.0 x1 + 5.0 x2 + 6.0 x3 <= 50\n"
     ]
    }
   ],
   "source": [
    "model.update()\n",
    "model.display()"
   ]
  },
  {
   "cell_type": "markdown",
   "metadata": {},
   "source": [
    "We are then ready to solve or optimize the model\n",
    "(using `model.optimize`). You can then query the `x` attribute on the\n",
    "variables to retrieve the solution (and the `VarName` attribute to\n",
    "retrieve the variable name for each variable)."
   ]
  },
  {
   "cell_type": "code",
   "execution_count": 17,
   "metadata": {},
   "outputs": [
    {
     "name": "stdout",
     "output_type": "stream",
     "text": [
      "Gurobi Optimizer version 10.0.1 build v10.0.1rc0 (linux64)\n",
      "\n",
      "CPU model: Intel(R) Core(TM) i7-2600 CPU @ 3.40GHz, instruction set [SSE2|AVX]\n",
      "Thread count: 4 physical cores, 8 logical processors, using up to 8 threads\n",
      "\n",
      "Optimize a model with 3 rows, 3 columns and 9 nonzeros\n",
      "Model fingerprint: 0x374a176e\n",
      "Coefficient statistics:\n",
      "  Matrix range     [4e+00, 1e+01]\n",
      "  Objective range  [5e+00, 8e+00]\n",
      "  Bounds range     [0e+00, 0e+00]\n",
      "  RHS range        [4e+01, 6e+01]\n",
      "Presolve time: 0.01s\n",
      "Presolved: 3 rows, 3 columns, 9 nonzeros\n",
      "\n",
      "Iteration    Objective       Primal Inf.    Dual Inf.      Time\n",
      "       0    1.9000000e+31   6.500000e+30   1.900000e+01      0s\n",
      "       2    6.2000000e+01   0.000000e+00   0.000000e+00      0s\n",
      "\n",
      "Solved in 2 iterations and 0.01 seconds (0.00 work units)\n",
      "Optimal objective  6.200000000e+01\n",
      "x1 0.0\n",
      "x2 7.0\n",
      "x3 2.5\n"
     ]
    }
   ],
   "source": [
    "# Solve\n",
    "model.optimize()\n",
    "\n",
    "# Let's print the solution\n",
    "for v in model.getVars():\n",
    "    print(v.varName, v.x)"
   ]
  },
  {
   "cell_type": "markdown",
   "metadata": {},
   "source": [
    "The screen output of Gurobi is described in the manual: [console\n",
    "logging](https://www.gurobi.com/documentation/9.1/refman/logging.html)\n",
    "(simplex logging and MIP logging will be relevant for us). Gurobi\n",
    "reports first some statistics to check whether there is a need for\n",
    "rescaling conveniently the numbers of the problem (no need in this case)\n",
    "and then applies preprocessing techniques to assess whether the model\n",
    "can be trivially solved without running the simplex or whether it can be\n",
    "reduced. In our case none of the two are possible and we are left with 3\n",
    "variables. Finally, the simplex method is applied and after 3 iterations\n",
    "of the primal simplex method (we set to use this method via\n",
    "`model.setParam(GRB.param.Method, 0)`) the optimal solution is found\n",
    "with value 62.\n",
    "\n",
    "Most of the information associated with a Gurobi model is stored in a\n",
    "set of attributes. Some attributes are associated with the variables of\n",
    "the model, some with the constraints of the model, and some with the\n",
    "model itself. To give a simple example, solving an optimization model\n",
    "causes the x variable attribute to be populated.\n",
    "\n",
    "Attributes can be accessed in two ways in the Python interface. The\n",
    "first is to use the `getAttr()` and `setAttr()` methods, which are\n",
    "available on variables (`Var.getAttr`/`Var.setAttr`), linear constraints\n",
    "(`Constr.getAttr`/`Constr.setAttr`), and models\n",
    "(`Model.getAttr`/`Model.setAttr`). These are called with the attribute\n",
    "name as the first argument (e.g., `var.getAttr(\"x\")` or\n",
    "`constr.setAttr(\"rhs\", 0.0))`. Attributes can also be accessed more\n",
    "directly: you can follow an object name by a period, followed by the\n",
    "name of an attribute of that object. Note that upper/lower case is\n",
    "ignored when referring to attributes. Thus, `b = constr.rhs` is\n",
    "equivalent to `b = constr.getAttr(\"rhs\")`, and `constr.rhs = 0.0` is\n",
    "equivalent to `constr.setAttr(\"rhs\", 0.0)`. The full list of available\n",
    "attributes can be found following the link\n",
    "[Attributes](https://www.gurobi.com/documentation/9.1/refman/attributes.html).\n",
    "\n",
    "Note that the code above can also be put in a script file called `prod1.py`. Then we can solve the model\n",
    "by calling:\n",
    "\n",
    "```\n",
    "    > python prod1.py\n",
    "```\n",
    "If something goes wrong check that `gurobipy` is available at the\n",
    "import, that you have the license and that it is saved in the correct\n",
    "place and that there are no syntax errors.\n",
    "\n",
    "#### The Value of the Dual variables\n",
    "\n",
    "The value of the dual variables can be accessed by referring to the\n",
    "attribute `pi` of the corresponding constraints. In Python:"
   ]
  },
  {
   "cell_type": "code",
   "execution_count": 18,
   "metadata": {},
   "outputs": [
    {
     "name": "stdout",
     "output_type": "stream",
     "text": [
      "c1 0.20000000000000007\n",
      "c2 0.0\n",
      "c3 1.0\n"
     ]
    }
   ],
   "source": [
    "# Let's print the dual variables\n",
    "for c in model.getConstrs():\n",
    "    print(c.constrName, c.pi)"
   ]
  },
  {
   "cell_type": "markdown",
   "metadata": {},
   "source": [
    "The values `c1`,`c2`,`c3` are the shadow prices (here 0.2, 0.0 and 1) which correspond to\n",
    "the marginal value of the resources. The c1 and c3 constraints' value is\n",
    "different from zero. This indicates that there's a variable on the upper\n",
    "bound for those constraints, or in other terms that these constraints\n",
    "are *\"binding\"*. The second constraint is not *\"binding\"*.\n",
    "\n",
    "#### Your Task\n",
    "\n",
    "Try relaxing the value of each binding constraint one at a time, solve\n",
    "the modified problem, and see what happens to the optimal value of the\n",
    "objective function. Also check that, as expected, changing the value of\n",
    "non-binding constraints won't make any difference to the solution.\n",
    "\n",
    "#### Your Task\n",
    "\n",
    "We can also access several quantities associated with the variables. A\n",
    "particularly relevant one is the *reduced cost*. Print the reduced costs\n",
    "of the variables for our example and make sure that they correspond to\n",
    "the expected values from the tableau above. \\[Hint: look for the\n",
    "variable attribute `rc`.\\] What can we say about the solution found on\n",
    "the basis of the reduced costs?\n",
    "\n",
    "Let's now focus on the values output during the execution of the\n",
    "simplex. Let's first solve another small numerical example:\n"
   ]
  },
  {
   "cell_type": "code",
   "execution_count": 19,
   "metadata": {},
   "outputs": [
    {
     "name": "stdout",
     "output_type": "stream",
     "text": [
      "Gurobi Optimizer version 10.0.1 build v10.0.1rc0 (linux64)\n",
      "\n",
      "CPU model: Intel(R) Core(TM) i7-2600 CPU @ 3.40GHz, instruction set [SSE2|AVX]\n",
      "Thread count: 4 physical cores, 8 logical processors, using up to 8 threads\n",
      "\n",
      "Optimize a model with 2 rows, 2 columns and 4 nonzeros\n",
      "Model fingerprint: 0xfacbb260\n",
      "Coefficient statistics:\n",
      "  Matrix range     [1e+00, 2e+00]\n",
      "  Objective range  [1e+00, 1e+00]\n",
      "  Bounds range     [0e+00, 0e+00]\n",
      "  RHS range        [2e+00, 5e+00]\n",
      "Presolve removed 0 rows and 1 columns\n",
      "Presolve time: 0.01s\n",
      "\n",
      "Solved in 0 iterations and 0.01 seconds (0.00 work units)\n",
      "Infeasible or unbounded model\n"
     ]
    }
   ],
   "source": [
    "import gurobipy as gp\n",
    "\n",
    "m = gp.Model(\"infeas\")\n",
    "\n",
    "x = m.addVar(name=\"x\") # ie, >= 0\n",
    "y = m.addVar(name=\"y\") # ie, >= 0\n",
    "\n",
    "m.setObjective(x - y, gp.GRB.MAXIMIZE)\n",
    "\n",
    "m.addConstr(x + y <= 2, \"c1\")\n",
    "m.addConstr(2*x + 2*y >= 5, \"c2\")\n",
    "\n",
    "m.optimize()"
   ]
  },
  {
   "cell_type": "markdown",
   "metadata": {},
   "source": [
    "\n",
    "This means that the presolve process has removed one column and\n",
    "identified the model as infeasible or unbounded. To discover which of\n",
    "the two is the case we need to run the simplex. To do so we remove the\n",
    "presolve process and resolve. We also ensure that we are using the\n",
    "primal simplex that makes things easier to interpret for us.\n",
    "\n",
    "Gurobi allows to control these choice by means of model parameters. They\n",
    "include time limits or other execution halting controls. See\n",
    "[Parameters](https://www.gurobi.com/documentation/9.1/refman/parameters.html)\n",
    "for a reference list. The parameter `Presolve` controls whether\n",
    "presolving is used. The parameter `Method` controls which solution\n",
    "method is used. The default is the dual simplex. The other possibilities\n",
    "are 0=primal simplex, 1=dual simplex, 2=barrier, 3=concurrent,\n",
    "4=deterministic concurrent. Let's add the following lines to our second\n",
    "small model."
   ]
  },
  {
   "cell_type": "code",
   "execution_count": 20,
   "metadata": {},
   "outputs": [
    {
     "name": "stdout",
     "output_type": "stream",
     "text": [
      "Set parameter Presolve to value 0\n",
      "Set parameter Method to value 0\n",
      "Gurobi Optimizer version 10.0.1 build v10.0.1rc0 (linux64)\n",
      "\n",
      "CPU model: Intel(R) Core(TM) i7-2600 CPU @ 3.40GHz, instruction set [SSE2|AVX]\n",
      "Thread count: 4 physical cores, 8 logical processors, using up to 8 threads\n",
      "\n",
      "Optimize a model with 2 rows, 2 columns and 4 nonzeros\n",
      "Model fingerprint: 0xfacbb260\n",
      "Coefficient statistics:\n",
      "  Matrix range     [1e+00, 2e+00]\n",
      "  Objective range  [1e+00, 1e+00]\n",
      "  Bounds range     [0e+00, 0e+00]\n",
      "  RHS range        [2e+00, 5e+00]\n",
      "Iteration    Objective       Primal Inf.    Dual Inf.      Time\n",
      "       0   -0.0000000e+00   2.500000e+00   2.000000e+06      0s\n",
      "\n",
      "Solved in 1 iterations and 0.01 seconds (0.00 work units)\n",
      "Infeasible model\n"
     ]
    }
   ],
   "source": [
    "if m.status == gp.GRB.status.INF_OR_UNBD:\n",
    "    # Turn presolve off to determine whether m is infeasible or unbounded\n",
    "    m.setParam(gp.GRB.param.Presolve, 0)\n",
    "    m.setParam(gp.GRB.param.Method, 0) # -1=automatic, 0=primal simplex, 1=dual simplex, 2=barrier, 3=concurrent, 4=deterministic concurrent, 5=deterministic concurrent simplex\n",
    "    m.optimize()\n",
    "\n",
    "if m.status == gp.GRB.status.OPTIMAL:\n",
    "    print('Optimal objective: %g' % m.objVal)\n",
    "    print( m.getVarByName(\"x\").x )\n",
    "    print( m.getVarByName(\"y\").x )\n",
    "    exit(0)\n",
    "elif m.status != gp.GRB.status.INFEASIBLE:\n",
    "    print('Optimization was stopped with status %d' % m.status)\n",
    "    exit(0)"
   ]
  },
  {
   "cell_type": "markdown",
   "metadata": {},
   "source": [
    "Resolving gives us the needed information. The `Primal infeas.` is the\n",
    "objective function of the auxiliary problem in the phase I of the\n",
    "two-phase simplex method. The Primal Infeas. never reaches 0. This means\n",
    "that a feasible solution cannot be found and the problem is therefore\n",
    "infeasible. Try to change 5 to 2 in the right-hand-side of the second\n",
    "constraint of the model above. What happens? Explain the behaviour.\n",
    "\n"
   ]
  },
  {
   "cell_type": "markdown",
   "metadata": {},
   "source": [
    "#### Your Task\n",
    "\n",
    "Resolve the production allocation example above using the primal method.\n",
    "Compare the iteration values of the simplex with the previous ones. Give\n",
    "your interpretation of the values Objective, Primal Inf. and Dual Inf.\n",
    "\n"
   ]
  },
  {
   "cell_type": "code",
   "execution_count": 21,
   "metadata": {},
   "outputs": [
    {
     "name": "stdout",
     "output_type": "stream",
     "text": [
      "Discarded solution information\n",
      "Set parameter Presolve to value 0\n",
      "Set parameter Method to value 0\n",
      "Gurobi Optimizer version 10.0.1 build v10.0.1rc0 (linux64)\n",
      "\n",
      "CPU model: Intel(R) Core(TM) i7-2600 CPU @ 3.40GHz, instruction set [SSE2|AVX]\n",
      "Thread count: 4 physical cores, 8 logical processors, using up to 8 threads\n",
      "\n",
      "Optimize a model with 3 rows, 3 columns and 9 nonzeros\n",
      "Model fingerprint: 0x374a176e\n",
      "Coefficient statistics:\n",
      "  Matrix range     [4e+00, 1e+01]\n",
      "  Objective range  [5e+00, 8e+00]\n",
      "  Bounds range     [0e+00, 0e+00]\n",
      "  RHS range        [4e+01, 6e+01]\n",
      "Iteration    Objective       Primal Inf.    Dual Inf.      Time\n",
      "       0   -0.0000000e+00   0.000000e+00   1.900000e+01      0s\n",
      "       2    6.2000000e+01   0.000000e+00   0.000000e+00      0s\n",
      "\n",
      "Solved in 2 iterations and 0.01 seconds (0.00 work units)\n",
      "Optimal objective  6.200000000e+01\n"
     ]
    }
   ],
   "source": [
    "model.reset()\n",
    "model.setParam(gp.GRB.param.Presolve, 0)\n",
    "model.setParam(gp.GRB.param.Method, 0) # -1=automatic, 0=primal simplex, 1=dual simplex, 2=barrier, 3=concurrent, 4=deterministic concurrent, 5=deterministic concurrent simplex\n",
    "model.optimize()"
   ]
  },
  {
   "cell_type": "markdown",
   "metadata": {},
   "source": [
    "#### Exporting Model Data to a File\n",
    "\n",
    "The function `model.write(filename)` writes model data to a file. The file type\n",
    "is encoded in the suffix of the file name passed to the function. Valid\n",
    "suffixes for writing the model itself are `.mps, .rew, .lp,` or `.rlp`.\n",
    "The suffix for writing a solution is `.sol` while `.prm` for a parameter\n",
    "file.\n",
    "\n",
    "#### Your Task\n",
    "\n",
    "Try all these formats on the production allocation example above and\n",
    "check their contents. The MPS file is not very user friendly. This is\n",
    "because the format is an old format when computer technology had much\n",
    "more limitations than nowadays. The CPLEX-LP format is a more explicit\n",
    "version of the problem that may be useful to check whether the model we\n",
    "implemented in Python is actually the one we intended.\n",
    "\n",
    "If you have any of them installed, try solving the problem with other\n",
    "solvers, eg, `cplex`, `glpk` and `scip`. For this you have to use the\n",
    "MPS (Mathematical Programming System) format and run the following: \n",
    "```\n",
    "    cplex -c read prod.mps optimize\n",
    "    glpsol --mps prod.mps \n",
    "    scip -f prod.mps \n",
    "```\n",
    "Gurobi has also a [command-line\n",
    "tool](https://www.gurobi.com/documentation/9.1/refman/grb_command_line_tool.html)\n",
    "to solve model files:\n",
    "```\n",
    "    gurobi_cl model.mps\n",
    "```\n",
    "You may also use the online solver at NEOS, the Network Enabled\n",
    "Optimization Server supported by the US federal government and located\n",
    "at Argonne National Lab. To submit an MPS model to NEOS visit\n",
    "<http://www.neos-server.org/neos/>, click on the icon \"NEOS Solvers\",\n",
    "scroll down to the Linear Programming or Mixed Integer Linear\n",
    "Programming list, click on one of those, scroll down to \"Model File\",\n",
    "click on \"Choose File\", select a file from your computer that contains\n",
    "an MPS model, scroll down to \"e-mail address:\", type in your email\n",
    "address, and click Submit to NEOS.\n",
    "\n",
    "    [Standard MPS files do not indicate whether to minimize or maximize\n",
    "    the objective. Thus your MPS files will come out the same whether\n",
    "    the objective is minimize or maximize.\n",
    "\n",
    "    As you are seeing, most solvers minimize the objective by default. A\n",
    "    solver may have a switch to tell it to maximize instead, but that is\n",
    "    different for each solver.\n",
    "\n",
    "    If you change the signs of all the objective coefficients, while\n",
    "    leaving the constraints unchanged, then minimizing the resulting MPS\n",
    "    file will be equivalent to maximizing the original problem. This can\n",
    "    be done easily by putting the entire objective expression in\n",
    "    parentheses and placing a minus sign in front of it.]"
   ]
  }
 ],
 "metadata": {
  "kernelspec": {
   "display_name": "Python 3.9.1 64-bit",
   "metadata": {
    "interpreter": {
     "hash": "aee8b7b246df8f9039afb4144a1f6fd8d2ca17a180786b69acc140d282b71a49"
    }
   },
   "name": "python3"
  },
  "language_info": {
   "codemirror_mode": {
    "name": "ipython",
    "version": 3
   },
   "file_extension": ".py",
   "mimetype": "text/x-python",
   "name": "python",
   "nbconvert_exporter": "python",
   "pygments_lexer": "ipython3",
   "version": "3.10.6"
  },
  "orig_nbformat": 2
 },
 "nbformat": 4,
 "nbformat_minor": 2
}
